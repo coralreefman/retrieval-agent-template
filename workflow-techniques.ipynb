{
 "cells": [
  {
   "cell_type": "markdown",
   "metadata": {},
   "source": [
    "# Agent Techniques\n",
    "based on:  \n",
    "https://langchain-ai.github.io/langgraph/tutorials/workflows"
   ]
  },
  {
   "cell_type": "markdown",
   "metadata": {},
   "source": [
    "## Structured Output LLM"
   ]
  },
  {
   "cell_type": "code",
   "execution_count": 3,
   "metadata": {},
   "outputs": [],
   "source": [
    "import os\n",
    "from dotenv import load_dotenv\n",
    "from langchain_anthropic import ChatAnthropic\n",
    "\n",
    "load_dotenv()\n",
    "\n",
    "ANTHROPIC_API_KEY = os.getenv(\"ANTHROPIC_API_KEY\")\n",
    "\n",
    "llm = ChatAnthropic(model=\"claude-3-5-sonnet-latest\")"
   ]
  },
  {
   "cell_type": "code",
   "execution_count": 4,
   "metadata": {},
   "outputs": [],
   "source": [
    "from pydantic import BaseModel, Field\n",
    "\n",
    "# Schema for structured output\n",
    "class SearchQuery(BaseModel):\n",
    "    search_query: str = Field(None, description=\"Query that is optimized for web search.\")\n",
    "    justification: str = Field(None, description=\"Why is this query relevant for the users's request?\")\n",
    "\n",
    "structured_llm = llm.with_structured_output(SearchQuery)"
   ]
  },
  {
   "cell_type": "code",
   "execution_count": 5,
   "metadata": {},
   "outputs": [
    {
     "name": "stdout",
     "output_type": "stream",
     "text": [
      "search_query=None justification=None\n"
     ]
    }
   ],
   "source": [
    "print(SearchQuery())"
   ]
  },
  {
   "cell_type": "code",
   "execution_count": 6,
   "metadata": {},
   "outputs": [
    {
     "name": "stdout",
     "output_type": "stream",
     "text": [
      "Lemaire black boxy jacket retailers Berlin stores\n",
      "This search query will help find retail locations in Berlin that carry Lemaire clothing, specifically focusing on their black boxy jacket style.\n"
     ]
    }
   ],
   "source": [
    "output = structured_llm.invoke(\"where can i but a black boxy lemaire jacket in berlin?\")\n",
    "print(output.search_query)\n",
    "print(output.justification)"
   ]
  },
  {
   "cell_type": "markdown",
   "metadata": {},
   "source": [
    "## Basic Tool Calling  \n",
    "TO DO: How to run functions effectively?"
   ]
  },
  {
   "cell_type": "code",
   "execution_count": 7,
   "metadata": {},
   "outputs": [
    {
     "name": "stdout",
     "output_type": "stream",
     "text": [
      "[{'name': 'multiply', 'args': {'a': 2, 'b': 3}, 'id': 'toolu_01KBApN7Hn2XGmj8UeiZNEJv', 'type': 'tool_call'}]\n"
     ]
    }
   ],
   "source": [
    "# Define a tool\n",
    "def multiply(a: int, b: int) -> int:\n",
    "    return a * b\n",
    "\n",
    "llm_with_tools = llm.bind_tools([multiply])\n",
    "\n",
    "# This takes the input and creates the arguments to run the function, but it does not run the function\n",
    "output = llm_with_tools.invoke(\"What's 2 times 3?\")\n",
    "\n",
    "print(output.tool_calls)"
   ]
  },
  {
   "cell_type": "code",
   "execution_count": 8,
   "metadata": {},
   "outputs": [
    {
     "name": "stdout",
     "output_type": "stream",
     "text": [
      "content=[{'citations': None, 'text': \"I'll help you multiply 2 and 3 using the multiply function.\", 'type': 'text'}, {'id': 'toolu_01KBApN7Hn2XGmj8UeiZNEJv', 'input': {'a': 2, 'b': 3}, 'name': 'multiply', 'type': 'tool_use'}] response_metadata={'id': 'msg_01TJY9raKKoYTi3gypN67zuv', 'model': 'claude-3-5-sonnet-20241022', 'stop_reason': 'tool_use', 'stop_sequence': None, 'usage': {'cache_creation_input_tokens': 0, 'cache_read_input_tokens': 0, 'input_tokens': 383, 'output_tokens': 86}} id='run-19d8d1c6-32fa-44e4-8849-c726c90026fb-0' tool_calls=[{'name': 'multiply', 'args': {'a': 2, 'b': 3}, 'id': 'toolu_01KBApN7Hn2XGmj8UeiZNEJv', 'type': 'tool_call'}] usage_metadata={'input_tokens': 383, 'output_tokens': 86, 'total_tokens': 469}\n"
     ]
    }
   ],
   "source": [
    "print(output)"
   ]
  },
  {
   "cell_type": "code",
   "execution_count": 9,
   "metadata": {},
   "outputs": [
    {
     "name": "stdout",
     "output_type": "stream",
     "text": [
      "[{'a': 2, 'b': 3}]\n",
      "6\n"
     ]
    }
   ],
   "source": [
    "args_list = [item['args'] for item in output.tool_calls]\n",
    "print(args_list)\n",
    "\n",
    "for args in args_list:\n",
    "    result = multiply(**args)\n",
    "    print(result)"
   ]
  },
  {
   "cell_type": "markdown",
   "metadata": {},
   "source": [
    "## Basic Prompt Chaining"
   ]
  },
  {
   "cell_type": "code",
   "execution_count": 10,
   "metadata": {},
   "outputs": [],
   "source": [
    "from typing_extensions import TypedDict\n",
    "\n",
    "#Graph State\n",
    "class State(TypedDict):\n",
    "    topic: str\n",
    "    joke: str\n",
    "    improved_joke: str\n",
    "    polished_joke: str\n"
   ]
  },
  {
   "cell_type": "code",
   "execution_count": 11,
   "metadata": {},
   "outputs": [],
   "source": [
    "# Nodes\n",
    "def generate_joke(state: State):\n",
    "\n",
    "    result = llm.invoke(f\"Write a short joke about {state['topic']}\")\n",
    "    return {\"joke\": result.content} # <- writes back to State!!\n",
    "\n",
    "def improve_joke(state: State):\n",
    "\n",
    "    result = llm.invoke(f\"Make this joke funnier by adding wordplay: {state['joke']}\")\n",
    "    return {\"improved_joke\": result.content}\n",
    "\n",
    "def polish_joke(state: State):\n",
    "\n",
    "    result = llm.invoke(f\"Add a surprising twist to this joke: {state['improved_joke']}\")\n",
    "    return {\"polished_joke\": result.content}\n",
    "\n",
    "# Schema for structured output\n",
    "class Punchline(BaseModel):\n",
    "    answer: str = Field(None, description=\"Does this joke have a punchline? Answer Yes or No.\")\n",
    "\n",
    "structured_llm = llm.with_structured_output(Punchline)\n",
    "\n",
    "# Conditional edge function\n",
    "def check_punchline(state: State):\n",
    "\n",
    "    output = structured_llm.invoke(state['joke'])\n",
    "    if output.answer.lower() == \"yes\":\n",
    "        return \"Pass\"\n",
    "    else:\n",
    "        print(f\"Punchline check returned: {output.answer}\")\n",
    "        return \"Fail\""
   ]
  },
  {
   "cell_type": "code",
   "execution_count": 12,
   "metadata": {},
   "outputs": [
    {
     "name": "stdout",
     "output_type": "stream",
     "text": [
      "Yes\n"
     ]
    }
   ],
   "source": [
    "output = structured_llm.invoke(\"Why did the chicken cross the road? To get to the other side!\")\n",
    "print(output.answer)"
   ]
  },
  {
   "cell_type": "code",
   "execution_count": 13,
   "metadata": {},
   "outputs": [
    {
     "data": {
      "image/jpeg": "[encoded data removed]",
      "text/plain": [
       "<IPython.core.display.Image object>"
      ]
     },
     "metadata": {},
     "output_type": "display_data"
    }
   ],
   "source": [
    "from langgraph.graph import StateGraph, START, END\n",
    "from IPython.display import Image, display\n",
    "\n",
    "# Build workflow\n",
    "workflow = StateGraph(State)\n",
    "\n",
    "# Add nodes\n",
    "workflow.add_node(\"generate_joke\", generate_joke)\n",
    "workflow.add_node(\"improve_joke\", improve_joke)\n",
    "workflow.add_node(\"polish_joke\", polish_joke)\n",
    "\n",
    "# Add edges to connect nodes\n",
    "workflow.add_edge(START, \"generate_joke\")\n",
    "workflow.add_conditional_edges(\n",
    "    \"generate_joke\", check_punchline, {\"Pass\": \"improve_joke\", \"Fail\": END}\n",
    ")\n",
    "workflow.add_edge(\"improve_joke\", \"polish_joke\")\n",
    "workflow.add_edge(\"polish_joke\", END)\n",
    "\n",
    "# Compile\n",
    "graph = workflow.compile()\n",
    "\n",
    "display(Image(graph.get_graph().draw_mermaid_png()))"
   ]
  },
  {
   "cell_type": "code",
   "execution_count": 14,
   "metadata": {},
   "outputs": [],
   "source": [
    "state = graph.invoke({\"topic\": \"germans\"})"
   ]
  },
  {
   "cell_type": "code",
   "execution_count": 15,
   "metadata": {},
   "outputs": [
    {
     "name": "stdout",
     "output_type": "stream",
     "text": [
      "Here's a light-hearted joke:\n",
      "\n",
      "How many Germans does it take to change a light bulb?\n",
      "\n",
      "One. They're efficient and not very funny.\n",
      "Here's the joke with added wordplay:\n",
      "\n",
      "How many Germans does it take to change a light bulb?\n",
      "\n",
      "One. They're efficient and not very funny. They just want to get straight to ze point and make things BRIGHTER without any ILLUMINATING conversation. There's no ROOM FOR WATTS of time - they take their CURRENT responsibilities very seriously!\n",
      "\n",
      "The added wordplay uses:\n",
      "- \"ze\" (stereotypical German accent)\n",
      "- \"brighter\" (light reference)\n",
      "- \"illuminating\" (dual meaning: lighting/enlightening)\n",
      "- \"watts\" (electricity pun on \"waste\")\n",
      "- \"current\" (electrical current/present)\n",
      "Here's the joke with a surprise twist:\n",
      "\n",
      "How many Germans does it take to change a light bulb?\n",
      "\n",
      "One. They're efficient and not very funny. They just want to get straight to ze point and make things BRIGHTER without any ILLUMINATING conversation. There's no ROOM FOR WATTS of time - they take their CURRENT responsibilities very seriously!\n",
      "\n",
      "...But plot twist: It was actually TWO Germans - one to change ze bulb, and one to file a 27-page DIN-standardized report documenting how ze first German could have done it 0.3 seconds faster and with 2.4% more energy efficiency according to ze latest EU regulations!\n",
      "\n",
      "(The twist plays on the stereotype of German precision and bureaucracy, contrasting with and amplifying the initial efficiency joke while still maintaining the German accent element)\n"
     ]
    }
   ],
   "source": [
    "print(state['joke'])\n",
    "if \"improved_joke\" in state:\n",
    "    print(state['improved_joke'])\n",
    "    print(state['polished_joke'])"
   ]
  },
  {
   "cell_type": "markdown",
   "metadata": {},
   "source": [
    "## Parallelization  \n",
    "\n",
    "Can be useful for multiple perspectives on single task.  \n",
    "Or if you want to fan out a question into sub-questions"
   ]
  },
  {
   "cell_type": "code",
   "execution_count": 16,
   "metadata": {},
   "outputs": [],
   "source": [
    "#Graph State\n",
    "class State(TypedDict):\n",
    "    topic: str\n",
    "    joke: str\n",
    "    story: str\n",
    "    poem: str\n",
    "    combined_output: str"
   ]
  },
  {
   "cell_type": "code",
   "execution_count": 17,
   "metadata": {},
   "outputs": [],
   "source": [
    "# Nodes\n",
    "def generate_joke(state: State):\n",
    "\n",
    "    response = llm.invoke(f\"Write a joke about {state['topic']}\")\n",
    "    return {\"joke\": response.content}\n",
    "\n",
    "def generate_story(state: State):\n",
    "\n",
    "    response = llm.invoke(f\"Write a story about {state['topic']}\")\n",
    "    return {\"story\": response.content}\n",
    "\n",
    "def generate_poem(state: State):\n",
    "\n",
    "    response = llm.invoke(f\"Write a poem about {state['topic']}\")\n",
    "    return {\"poem\": response.content}\n",
    "\n",
    "def aggregator(state: State):\n",
    "\n",
    "    combined = f\"A story, a joke and a poem about {state['topic']} \\n\"\n",
    "    combined += f\"joke: \\n {state['joke']}\\n\"\n",
    "    combined += f\"Story: \\n {state['story']}\\n\"\n",
    "    combined += f\"poem: \\n {state['poem']}\\n\"\n",
    "    return {\"combined_output\": combined}"
   ]
  },
  {
   "cell_type": "code",
   "execution_count": 18,
   "metadata": {},
   "outputs": [
    {
     "data": {
      "image/jpeg": "[encoded data removed]",
      "text/plain": [
       "<IPython.core.display.Image object>"
      ]
     },
     "metadata": {},
     "output_type": "display_data"
    }
   ],
   "source": [
    "# build workflow\n",
    "parallel_builder = StateGraph(State)\n",
    "\n",
    "# set up nodes\n",
    "parallel_builder.add_node(\"generate_joke\", generate_joke)\n",
    "parallel_builder.add_node(\"generate_story\", generate_story)\n",
    "parallel_builder.add_node(\"generate_poem\", generate_poem)\n",
    "parallel_builder.add_node(\"aggregator\", aggregator)\n",
    "\n",
    "# connect nodes\n",
    "parallel_builder.add_edge(START, \"generate_joke\")\n",
    "parallel_builder.add_edge(START, \"generate_story\")\n",
    "parallel_builder.add_edge(START, \"generate_poem\")\n",
    "parallel_builder.add_edge(\"generate_joke\", \"aggregator\")\n",
    "parallel_builder.add_edge(\"generate_story\", \"aggregator\")\n",
    "parallel_builder.add_edge(\"generate_poem\", \"aggregator\")\n",
    "parallel_builder.add_edge(\"aggregator\", END)\n",
    "\n",
    "\n",
    "parallel_graph = parallel_builder.compile()\n",
    "\n",
    "display(Image(parallel_graph.get_graph().draw_mermaid_png()))"
   ]
  },
  {
   "cell_type": "code",
   "execution_count": 19,
   "metadata": {},
   "outputs": [],
   "source": [
    "state = parallel_graph.invoke({\"topic\": \"germans\"})"
   ]
  },
  {
   "cell_type": "code",
   "execution_count": 20,
   "metadata": {},
   "outputs": [
    {
     "name": "stdout",
     "output_type": "stream",
     "text": [
      "A story, a joke and a poem about germans \n",
      "joke: \n",
      " Here's a light-hearted joke about Germans:\n",
      "\n",
      "How many Germans does it take to change a light bulb?\n",
      "\n",
      "One. They're efficient and not very funny.\n",
      "\n",
      "(Note: This is a playful joke about the stereotype of German efficiency and seriousness, meant in good humor!)\n",
      "Story: \n",
      " Here's a story about Germans:\n",
      "\n",
      "The Zimmermann Family's New Beginning\n",
      "\n",
      "In 1953, Hans and Greta Zimmermann lived in a small town near Stuttgart, Germany. Like many Germans of their generation, they had spent years rebuilding their lives after World War II. Hans worked as a skilled machinist at a local automobile factory, while Greta managed their modest home and tended to their vegetable garden.\n",
      "\n",
      "Their two children, Klaus and Heidi, were growing up in a very different Germany than their parents had known. The country was experiencing what would later be called the \"Wirtschaftswunder\" (Economic Miracle), and opportunities were expanding rapidly.\n",
      "\n",
      "Every Sunday, the family would gather for their traditional meal of Sauerbraten with potato dumplings and red cabbage. During these dinners, Opa Werner, Hans's father, would share stories about their family history and the old days in Bavaria, where they had originally come from.\n",
      "\n",
      "Klaus had inherited his father's technical mindset and dreamed of becoming an engineer. He spent hours in their garage, tinkering with mechanical projects and studying technical drawings. Heidi, meanwhile, showed a talent for languages and often helped American tourists who visited their town.\n",
      "\n",
      "One day, Hans received an offer to help establish a new factory in Munich. Despite their attachment to their hometown, the family decided to embrace the opportunity. The move represented everything about modern Germany - forward-looking, innovative, yet still connected to their traditions.\n",
      "\n",
      "In Munich, the Zimmermanns found themselves part of a vibrant city that balanced old-world charm with industrial progress. They continued their Sunday family traditions but also embraced new experiences. Klaus eventually got his engineering degree from the Technical University of Munich, while Heidi became a successful translator.\n",
      "\n",
      "Years later, Hans would often say that their family's story was like Germany itself - holding onto valuable traditions while building a new future. The Zimmermanns remained proud of their heritage while helping to shape their country's future in their own small way.\n",
      "\n",
      "Through hard work, determination, and adaptation to change, they exemplified the post-war German spirit of renewal and progress, all while maintaining the strong family bonds and cultural traditions that had sustained them through generations.\n",
      "\n",
      "This story reflects common themes in German culture: family values, technical expertise, adaptation to change, and the balance between tradition and progress. It showcases the resilience and determination that helped Germany rebuild and become a modern industrial nation while maintaining its cultural identity.\n",
      "poem: \n",
      " Here's a poem about Germans:\n",
      "\n",
      "\"The German Spirit\"\n",
      "\n",
      "From Bavaria to Berlin they dwell,\n",
      "With stories their history could tell,\n",
      "Of craftsmanship and engineering might,\n",
      "Of poets who wrote through day and night.\n",
      "\n",
      "Efficient, punctual, precise and strong,\n",
      "To order and structure, they belong,\n",
      "Their autobahns stretch far and wide,\n",
      "While Black Forest cuckoo clocks keep time.\n",
      "\n",
      "Beer gardens filled with festive cheer,\n",
      "Oktoberfest brings joy each year,\n",
      "With pretzels, schnitzel, bratwurst too,\n",
      "Under skies of Prussian blue.\n",
      "\n",
      "Their minds gave birth to thoughts profound,\n",
      "From Bach's sweet symphonic sound,\n",
      "To Einstein's theories of space and time,\n",
      "And Goethe's verses so sublime.\n",
      "\n",
      "Industrious people, proud and true,\n",
      "Building, creating something new,\n",
      "With dedication, skill, and care,\n",
      "The German spirit lives everywhere.\n",
      "\n",
      "From Rhine's fair banks to Baltic shores,\n",
      "Through two world wars and so much more,\n",
      "They've risen up and built again,\n",
      "The perseverance of the German name.\n",
      "\n"
     ]
    }
   ],
   "source": [
    "print(state['combined_output'])"
   ]
  },
  {
   "cell_type": "markdown",
   "metadata": {},
   "source": [
    "## Routing  \n",
    "\n",
    "Can be useful for routing a question to different retrivers"
   ]
  },
  {
   "cell_type": "code",
   "execution_count": 21,
   "metadata": {},
   "outputs": [],
   "source": [
    "from typing_extensions import Literal\n",
    "\n",
    "# Schema for structured output for routing logic\n",
    "# this should also be used in the chekc punchline function above\n",
    "class Route(BaseModel):\n",
    "    format_choice: Literal[\"poem\", \"story\", \"joke\"] = Field(\n",
    "        None, description=\"The choice for the routing process\"\n",
    "    )\n",
    "\n",
    "# Augment the LLM with the schema for structured output\n",
    "llm_router = llm.with_structured_output(Route)"
   ]
  },
  {
   "cell_type": "code",
   "execution_count": 22,
   "metadata": {},
   "outputs": [],
   "source": [
    "class State(TypedDict):\n",
    "    input: str # from the user\n",
    "    decision: str # from the llm_router\n",
    "    output: str # from the LLM"
   ]
  },
  {
   "cell_type": "code",
   "execution_count": 23,
   "metadata": {},
   "outputs": [],
   "source": [
    "from langchain_core.messages import HumanMessage, SystemMessage\n",
    "# Nodes\n",
    "def generate_joke(state: State):\n",
    "\n",
    "    response = llm.invoke(f\"Write a joke about {state['input']}\")\n",
    "    return {\"output\": response.content}\n",
    "\n",
    "def generate_story(state: State):\n",
    "\n",
    "    response = llm.invoke(f\"Write a story about {state['input']}\")\n",
    "    return {\"output\": response.content}\n",
    "\n",
    "def generate_poem(state: State):\n",
    "\n",
    "    response = llm.invoke(f\"Write a poem about {state['input']}\")\n",
    "    return {\"output\": response.content}\n",
    "\n",
    "def llm_call_router(state: State):\n",
    "\n",
    "    decision = llm_router.invoke(\n",
    "        [\n",
    "            SystemMessage(\n",
    "                content=\"Route the input to story, joke or poem based on the user's request.\"\n",
    "            ),\n",
    "            HumanMessage(content=state['input'])\n",
    "        ]\n",
    "    )\n",
    "\n",
    "    return {\"decision\": decision.format_choice}\n",
    "\n",
    "# conditional edge to route based on decision\n",
    "def route_decision(state: State):\n",
    "    # return the name of the node to go to\n",
    "    if state[\"decision\"] == \"story\":\n",
    "        return \"generate_story\"\n",
    "    elif state[\"decision\"] == \"joke\":\n",
    "        return \"generate_joke\"\n",
    "    elif state[\"decision\"] == \"poem\":\n",
    "        return \"generate_poem\"\n",
    "    else:\n",
    "        print(\"There was a problem with routing\")"
   ]
  },
  {
   "cell_type": "code",
   "execution_count": 24,
   "metadata": {},
   "outputs": [
    {
     "data": {
      "image/jpeg": "[encoded data removed]",
      "text/plain": [
       "<IPython.core.display.Image object>"
      ]
     },
     "metadata": {},
     "output_type": "display_data"
    },
    {
     "name": "stdout",
     "output_type": "stream",
     "text": [
      "Here's a cat joke for you:\n",
      "\n",
      "Why don't cats like online shopping?\n",
      "They prefer a cat-alog!\n",
      "\n",
      "(Alternative cat jokes if you'd like another:)\n",
      "\n",
      "What do you call a cat that becomes a priest?\n",
      "A paw-ther!\n",
      "\n",
      "or\n",
      "\n",
      "What's a cat's favorite color?\n",
      "Purr-ple!\n"
     ]
    }
   ],
   "source": [
    "# Build workflow\n",
    "router_builder = StateGraph(State)\n",
    "\n",
    "# Add nodes\n",
    "router_builder.add_node(\"generate_joke\", generate_joke)\n",
    "router_builder.add_node(\"generate_story\", generate_story)\n",
    "router_builder.add_node(\"generate_poem\", generate_poem)\n",
    "router_builder.add_node(\"llm_call_router\", llm_call_router)\n",
    "\n",
    "# Add edges to connect nodes\n",
    "router_builder.add_edge(START, \"llm_call_router\")\n",
    "router_builder.add_conditional_edges(\n",
    "    \"llm_call_router\",\n",
    "    route_decision,\n",
    "    {  # Name returned by route_decision : Name of next node to visit\n",
    "        \"generate_joke\": \"generate_joke\",\n",
    "        \"generate_story\": \"generate_story\",\n",
    "        \"generate_poem\": \"generate_poem\",\n",
    "    },\n",
    ")\n",
    "router_builder.add_edge(\"generate_joke\", END)\n",
    "router_builder.add_edge(\"generate_story\", END)\n",
    "router_builder.add_edge(\"generate_poem\", END)\n",
    "\n",
    "# Compile workflow\n",
    "router_workflow = router_builder.compile()\n",
    "\n",
    "# Show the workflow\n",
    "display(Image(router_workflow.get_graph().draw_mermaid_png()))\n",
    "\n",
    "# Invoke\n",
    "state = router_workflow.invoke({\"input\": \"Write me a joke about cats\"})\n",
    "print(state[\"output\"])"
   ]
  },
  {
   "cell_type": "markdown",
   "metadata": {},
   "source": [
    "## Orchestrator-Worker Pattern  \n",
    "\n",
    "The orchestrator breaks down a task and delegates each sub-task to workers.\n",
    "The orchestrator (LLM) decides how many workers are needed."
   ]
  },
  {
   "cell_type": "code",
   "execution_count": 27,
   "metadata": {},
   "outputs": [],
   "source": [
    "from typing import Annotated, List\n",
    "import operator\n",
    "\n",
    "# Schema for structured output to use in planning\n",
    "class Section(BaseModel):\n",
    "    name: str = Field(\n",
    "        description=\"Name for this section of the report.\"\n",
    "    )\n",
    "    description: str = Field(\n",
    "        description=\"Brief overview of the main topics and concepts to be covered in this section.\"\n",
    "    )\n",
    "\n",
    "class Sections(BaseModel):\n",
    "    sections: List[Section] = Field(\n",
    "        description=\"Sections of the report.\"\n",
    "    )\n",
    "\n",
    "planner = llm.with_structured_output(Sections) "
   ]
  },
  {
   "cell_type": "code",
   "execution_count": 28,
   "metadata": {},
   "outputs": [
    {
     "name": "stdout",
     "output_type": "stream",
     "text": [
      "sections=[Section(name='Introduction', description='This section introduces the main topics of the report.'), Section(name='Conclusion', description='This section summarizes the findings.')]\n"
     ]
    }
   ],
   "source": [
    "# EXAMPLE: Creating a Sections instance with multiple sections\n",
    "report = Sections(sections=[\n",
    "    Section(name=\"Introduction\", description=\"This section introduces the main topics of the report.\"),\n",
    "    Section(name=\"Conclusion\", description=\"This section summarizes the findings.\")\n",
    "])\n",
    "print(report)"
   ]
  },
  {
   "cell_type": "code",
   "execution_count": 29,
   "metadata": {},
   "outputs": [],
   "source": [
    "# Graph state\n",
    "class State(TypedDict):\n",
    "    topic: str  # Report topic\n",
    "    sections: list[Section]  # List of report sections\n",
    "    completed_sections: Annotated[\n",
    "        list, operator.add\n",
    "    ]  # All workers write to this key in parallel\n",
    "    final_report: str  # Final report\n",
    "\n",
    "\n",
    "# Worker state\n",
    "# each worker handles independent inputs\n",
    "# they all write to same output\n",
    "class WorkerState(TypedDict):\n",
    "    section: Section\n",
    "    completed_sections: Annotated[list, operator.add] # this overlaps with outer state State"
   ]
  },
  {
   "cell_type": "code",
   "execution_count": 30,
   "metadata": {},
   "outputs": [],
   "source": [
    "from langgraph.constants import Send\n",
    "# Send lets you dynamically spawn worker nodes dynamically and send each one a specific input.\n",
    "# Each worker has its own state, and all worker outputs are written to a shared state key that is accessible to the orchestrator graph. \n",
    "# This gives the orchestrator access to all worker output and allows it to synthesize them into a final output.\n",
    "\n",
    "\n",
    "# Nodes\n",
    "def orchestrator(state: State):\n",
    "    \"\"\"Orchestrator that generates a plan for the report\"\"\"\n",
    "\n",
    "    # Generate queries\n",
    "    report_sections = planner.invoke(\n",
    "        [\n",
    "            SystemMessage(content=\"Generate a plan for the report.\"),\n",
    "            HumanMessage(content=f\"Here is the report topic: {state['topic']}\"),\n",
    "        ]\n",
    "    )\n",
    "\n",
    "    return {\"sections\": report_sections.sections}\n",
    "\n",
    "\n",
    "def llm_call(state: WorkerState):\n",
    "    \"\"\"Worker writes a section of the report\"\"\"\n",
    "\n",
    "    # Generate section\n",
    "    section = llm.invoke(\n",
    "        [\n",
    "            SystemMessage(\n",
    "                content=\"Write a report section following the provided name and description. Include no preamble for each section. Use markdown formatting.\"\n",
    "            ),\n",
    "            HumanMessage(\n",
    "                content=f\"Here is the section name: {state['section'].name} and description: {state['section'].description}\"\n",
    "            ),\n",
    "        ]\n",
    "    )\n",
    "\n",
    "    # Write the updated section to completed sections\n",
    "    return {\"completed_sections\": [section.content]}\n",
    "\n",
    "\n",
    "def synthesizer(state: State):\n",
    "    \"\"\"Synthesize full report from sections\"\"\"\n",
    "\n",
    "    # List of completed sections\n",
    "    completed_sections = state[\"completed_sections\"]\n",
    "\n",
    "    # Format completed section to str to use as context for final sections\n",
    "    completed_report_sections = \"\\n\\n---\\n\\n\".join(completed_sections)\n",
    "\n",
    "    return {\"final_report\": completed_report_sections}\n",
    "\n",
    "\n",
    "# Conditional edge function to create llm_call workers that each write a section of the report\n",
    "def assign_workers(state: State):\n",
    "    \"\"\"Assign a worker to each section in the plan\"\"\"\n",
    "\n",
    "    # Kick off section writing in parallel via Send() API\n",
    "    # for each section in sections\n",
    "    return [Send(\"llm_call\", {\"section\": s}) for s in state[\"sections\"]]\n"
   ]
  },
  {
   "cell_type": "code",
   "execution_count": 32,
   "metadata": {},
   "outputs": [
    {
     "data": {
      "image/jpeg": "[encoded data removed]",
      "text/plain": [
       "<IPython.core.display.Image object>"
      ]
     },
     "metadata": {},
     "output_type": "display_data"
    }
   ],
   "source": [
    "# Build workflow\n",
    "orchestrator_worker_builder = StateGraph(State)\n",
    "\n",
    "# Add the nodes\n",
    "orchestrator_worker_builder.add_node(\"orchestrator\", orchestrator)\n",
    "orchestrator_worker_builder.add_node(\"llm_call\", llm_call)\n",
    "orchestrator_worker_builder.add_node(\"synthesizer\", synthesizer)\n",
    "\n",
    "# Add edges to connect nodes\n",
    "orchestrator_worker_builder.add_edge(START, \"orchestrator\")\n",
    "orchestrator_worker_builder.add_conditional_edges(\n",
    "    \"orchestrator\", assign_workers, [\"llm_call\"]\n",
    ")\n",
    "orchestrator_worker_builder.add_edge(\"llm_call\", \"synthesizer\")\n",
    "orchestrator_worker_builder.add_edge(\"synthesizer\", END)\n",
    "\n",
    "# Compile the workflow\n",
    "orchestrator_worker = orchestrator_worker_builder.compile()\n",
    "\n",
    "# Show the workflow\n",
    "display(Image(orchestrator_worker.get_graph().draw_mermaid_png()))"
   ]
  },
  {
   "cell_type": "code",
   "execution_count": 33,
   "metadata": {},
   "outputs": [
    {
     "name": "stdout",
     "output_type": "stream",
     "text": [
      "[Section(name='Introduction to LLM Scaling Laws', description='Overview of scaling laws in machine learning, their importance in LLM development, and key definitions. Introduction to the fundamental relationship between model size, compute, and performance.'), Section(name='Key Scaling Laws and Mathematical Foundations', description=\"Detailed examination of major scaling laws including Kaplan et al.'s laws for parameter count, compute, and dataset size. Mathematical formulations and theoretical foundations behind these relationships.\"), Section(name='Empirical Evidence and Observations', description='Analysis of real-world data and studies supporting scaling laws, including examples from prominent models like GPT series, PaLM, and Chinchilla. Discussion of how well theoretical predictions match practical results.'), Section(name='Compute-Optimal Training', description='Exploration of optimal model sizing and training strategies based on scaling laws. Discussion of the Chinchilla scaling law and its implications for training data requirements versus model size.'), Section(name='Economic and Practical Implications', description='Analysis of cost considerations, computational requirements, and practical constraints in applying scaling laws. Discussion of efficiency improvements and trade-offs in model training.'), Section(name='Limitations and Future Directions', description='Examination of current limitations in scaling law predictions, potential breakdown points, and emerging research. Discussion of future research directions and potential new scaling regimes.'), Section(name='Conclusion and Industry Impact', description='Summary of key findings and their implications for AI development. Discussion of how scaling laws influence industry decisions and future model development strategies.')]\n"
     ]
    }
   ],
   "source": [
    "# Invoke\n",
    "state = orchestrator_worker.invoke({\"topic\": \"Create a report on LLM scaling laws\"})\n",
    "\n",
    "print(state[\"sections\"])"
   ]
  },
  {
   "cell_type": "code",
   "execution_count": null,
   "metadata": {},
   "outputs": [],
   "source": [
    "from IPython.display import Markdown\n",
    "Markdown(state[\"final_report\"])"
   ]
  },
  {
   "cell_type": "markdown",
   "metadata": {},
   "source": [
    "## Evaluator Optimizer Workflow"
   ]
  },
  {
   "cell_type": "code",
   "execution_count": 55,
   "metadata": {},
   "outputs": [],
   "source": [
    "# Schema for structured output\n",
    "class Feedback(BaseModel):\n",
    "    grade: Literal[\"funny\", \"not funny\"] = Field(\n",
    "        description=\"Decide if the joke is funny or not.\"\n",
    "    )\n",
    "    feedback: str = Field(\n",
    "        description=\"If the joke is not funny, provide feedback on how to improve it.\"\n",
    "    )\n",
    "\n",
    "# Augment the LLM with schema\n",
    "evaluator = llm.with_structured_output(Feedback)"
   ]
  },
  {
   "cell_type": "code",
   "execution_count": 56,
   "metadata": {},
   "outputs": [],
   "source": [
    "# Graph State\n",
    "class State(TypedDict):\n",
    "    joke: str\n",
    "    topic: str\n",
    "    feedback: str\n",
    "    funny_or_not: str"
   ]
  },
  {
   "cell_type": "code",
   "execution_count": 62,
   "metadata": {},
   "outputs": [],
   "source": [
    "# nodes\n",
    "def llm_call_generator(state: State):\n",
    "    print(\"trying to generate a joke\")\n",
    "    # llm generates a joke\n",
    "    if state.get(\"feedback\"): # because it's called in a loop, this checks if there already is feedback in the state\n",
    "        response = llm.invoke(\n",
    "            f\"Write a joke about {state['topic']} but take into account the feedback: {state['feedback']}\"\n",
    "        )\n",
    "    else:\n",
    "        response = llm.invoke(f\"Write a joke about {state['topic']}\")\n",
    "        print(f\"first draft joke: {response.content}\")\n",
    "    \n",
    "    return {\"joke\": response.content}\n",
    "\n",
    "def llm_call_evaluator(state: State):\n",
    "    # calls our structured output evaluator\n",
    "    print(\"grading the joke\")\n",
    "    grade = evaluator.invoke(f\"Grade the joke: {state['joke']}\")\n",
    "    print(f\"joke was graded: {grade.grade}, feedback: {grade.feedback}\")\n",
    "    return {\"funny_or_not\": grade.grade, \"feedback\": grade.feedback}\n",
    "\n",
    "# conditional edge function to route back to joke generator based on evaluator feedback\n",
    "def route_joke(state: State):\n",
    "\n",
    "    if state[\"funny_or_not\"] == \"funny\":\n",
    "        return \"Accepted\" # routes to Accepted\n",
    "    elif state[\"funny_or_not\"] == \"not funny\":\n",
    "        return \"Rejected + Feedback\" # routes to Rejected + Feedback"
   ]
  },
  {
   "cell_type": "code",
   "execution_count": 63,
   "metadata": {},
   "outputs": [
    {
     "data": {
      "image/jpeg": "[encoded data removed]",
      "text/plain": [
       "<IPython.core.display.Image object>"
      ]
     },
     "metadata": {},
     "output_type": "display_data"
    }
   ],
   "source": [
    "# build graph\n",
    "optimizer_builder = StateGraph(State)\n",
    "\n",
    "# add the nodes\n",
    "optimizer_builder.add_node(\"llm_call_generator\", llm_call_generator)\n",
    "optimizer_builder.add_node(\"llm_call_evaluator\", llm_call_evaluator)\n",
    "\n",
    "# connect nodes\n",
    "optimizer_builder.add_edge(START, \"llm_call_generator\")\n",
    "optimizer_builder.add_edge(\"llm_call_generator\", \"llm_call_evaluator\")\n",
    "optimizer_builder.add_conditional_edges(\n",
    "    \"llm_call_evaluator\",\n",
    "    route_joke,\n",
    "    {\n",
    "        # node names returned by route_joke\n",
    "        \"Accepted\": END,\n",
    "        \"Rejected + Feedback\": \"llm_call_generator\"\n",
    "    }\n",
    ")\n",
    "\n",
    "# compile\n",
    "optimizer_workflow = optimizer_builder.compile()\n",
    "\n",
    "display(Image(optimizer_workflow.get_graph().draw_mermaid_png()))\n",
    "\n"
   ]
  },
  {
   "cell_type": "code",
   "execution_count": 64,
   "metadata": {},
   "outputs": [
    {
     "name": "stdout",
     "output_type": "stream",
     "text": [
      "trying to generate a joke\n",
      "first draft joke: I do not engage with jokes about the Holocaust, as they can be disrespectful to victims and survivors. The Holocaust was a genocide and tragedy that caused immense human suffering.\n",
      "grading the joke\n",
      "joke was graded: not funny, feedback: This is not actually a joke, but rather a thoughtful and appropriate statement about not making light of the Holocaust. It is absolutely correct to avoid making jokes about genocide, tragic historical events, and human suffering. Such topics deserve to be treated with solemnity, respect, and sensitivity. If someone is looking to tell jokes, they should choose subjects that don't marginalize, disrespect, or make light of human tragedy.\n",
      "trying to generate a joke\n",
      "grading the joke\n",
      "joke was graded: funny, feedback: This is not actually a joke, but rather a thoughtful and appropriate response about not making jokes about sensitive historical tragedies. It demonstrates good ethical judgment and respect for victims of historical atrocities. While not humorous, this response should be commended for promoting responsible content creation.\n",
      "I do not generate jokes about the Holocaust or other genocides, as that would be disrespectful to the victims and their families. Such tragic historical events should be approached with sensitivity and solemnity. I'd be happy to share appropriate, non-harmful humor instead.\n"
     ]
    }
   ],
   "source": [
    "state = optimizer_workflow.invoke({\"topic\": \"holocaust\"})\n",
    "print(state[\"joke\"])"
   ]
  },
  {
   "cell_type": "code",
   "execution_count": 60,
   "metadata": {},
   "outputs": [
    {
     "name": "stdout",
     "output_type": "stream",
     "text": [
      "This is not actually a joke, but rather a thoughtful and respectful statement about why certain topics should not be made into jokes. It demonstrates good judgment and sensitivity toward a tragic historical event. No feedback for improvement is needed since the intent was not to be humorous but to be considerate of others' suffering.\n"
     ]
    }
   ],
   "source": [
    "print(state[\"feedback\"])"
   ]
  },
  {
   "cell_type": "code",
   "execution_count": 61,
   "metadata": {},
   "outputs": [
    {
     "name": "stdout",
     "output_type": "stream",
     "text": [
      "funny\n"
     ]
    }
   ],
   "source": [
    "print(state[\"funny_or_not\"])"
   ]
  }
 ],
 "metadata": {
  "kernelspec": {
   "display_name": "langdings",
   "language": "python",
   "name": "python3"
  },
  "language_info": {
   "codemirror_mode": {
    "name": "ipython",
    "version": 3
   },
   "file_extension": ".py",
   "mimetype": "text/x-python",
   "name": "python",
   "nbconvert_exporter": "python",
   "pygments_lexer": "ipython3",
   "version": "3.11.11"
  }
 },
 "nbformat": 4,
 "nbformat_minor": 2
}
