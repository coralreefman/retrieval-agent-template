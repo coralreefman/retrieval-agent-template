{
 "cells": [
  {
   "cell_type": "markdown",
   "metadata": {},
   "source": [
    "## Simple JSON Q&A Approach (LangChain)"
   ]
  },
  {
   "cell_type": "markdown",
   "metadata": {},
   "source": [
    "When we have a question / answer dataset with relatively short answers, we don't need to use a splitter\n",
    "\n"
   ]
  },
  {
   "cell_type": "code",
   "execution_count": 2,
   "metadata": {},
   "outputs": [],
   "source": [
    "import json\n",
    "# Load JSON data\n",
    "with open(\"./data/home0001qa.json\", \"r\") as file:\n",
    "    qa_data = json.load(file)"
   ]
  },
  {
   "cell_type": "code",
   "execution_count": 3,
   "metadata": {},
   "outputs": [
    {
     "data": {
      "text/plain": [
       "[Document(metadata={'question': 'Do i own my 0001 home outright?'}, page_content='When you buy a 0001 home, you own the title in the traditional way. If you need, we’ll help you find the right mortgage and can recommend real estate lawyers. You keep full legal ownership of your home, with the added benefit that you can spend time in other locations whenever you want.'),\n",
       " Document(metadata={'question': 'Does furniture come included?'}, page_content='Yes, each new home comes fully furnished and equipped so that you can move in easily with just your suitcase. Each interior is designed for flexibility and functionality and we work directly with designers from our community to source pieces often straight from their studios.'),\n",
       " Document(metadata={'question': 'Can i change the design of my home?'}, page_content=\"Legally you own your home and are free to do what you want with it. However, to maintain access to home0001's network in other locations, your home does need to meet our standards and our team can support you in making changes where desired.\"),\n",
       " Document(metadata={'question': 'Are you open to negotiation on price?'}, page_content='No. The practice of negotiation has been shown to systemically disadvantage certain buyer groups, and bidding wars can pit buyers against each other and drive prices up unreasonably. We research the market meticulously and negotiate the best price for our community based on comparable homes sold recently. And by representing a large community of buyers, we’re able to negotiate discounts on entire buildings from developers.'),\n",
       " Document(metadata={'question': 'Do i need a broker?'}, page_content=\"You don't need a real estate broker to buy an 0001 home. We’re licensed to guide you through the process from beginning to end. You can use your own mortgage broker, real estate attorney, etc., or we can intro you to good people to work with.\")]"
      ]
     },
     "execution_count": 3,
     "metadata": {},
     "output_type": "execute_result"
    }
   ],
   "source": [
    "from langchain.schema import Document\n",
    "# Prepare documents for LangChain\n",
    "documents = [\n",
    "    Document(page_content=item[\"answer\"], metadata={\"question\": item[\"question\"]})\n",
    "    for item in qa_data\n",
    "]\n",
    "\n",
    "documents[:5]"
   ]
  },
  {
   "cell_type": "code",
   "execution_count": 4,
   "metadata": {},
   "outputs": [
    {
     "name": "stdout",
     "output_type": "stream",
     "text": [
      "[Document(metadata={'question': 'Do i own my 0001 home outright?'}, page_content='When you buy a 0001 home, you own the title in the traditional way. If you need, we’ll help you find the right mortgage and can recommend real estate lawyers. You keep full legal ownership of your home, with the added benefit that you can spend time in other locations whenever you want.'), Document(metadata={'question': 'Does furniture come included?'}, page_content='Yes, each new home comes fully furnished and equipped so that you can move in easily with just your suitcase. Each interior is designed for flexibility and functionality and we work directly with designers from our community to source pieces often straight from their studios.'), Document(metadata={'question': 'Can i change the design of my home?'}, page_content=\"Legally you own your home and are free to do what you want with it. However, to maintain access to home0001's network in other locations, your home does need to meet our standards and our team can support you in making changes where desired.\"), Document(metadata={'question': 'Are you open to negotiation on price?'}, page_content='No. The practice of negotiation has been shown to systemically disadvantage certain buyer groups, and bidding wars can pit buyers against each other and drive prices up unreasonably. We research the market meticulously and negotiate the best price for our community based on comparable homes sold recently. And by representing a large community of buyers, we’re able to negotiate discounts on entire buildings from developers.'), Document(metadata={'question': 'Do i need a broker?'}, page_content=\"You don't need a real estate broker to buy an 0001 home. We’re licensed to guide you through the process from beginning to end. You can use your own mortgage broker, real estate attorney, etc., or we can intro you to good people to work with.\")]\n"
     ]
    }
   ],
   "source": [
    "# turn into function\n",
    "def prepare_qa_documents(file_path):\n",
    "    with open(file_path, 'r') as f:\n",
    "        qa_data = json.load(f)\n",
    "    \n",
    "    documents = [\n",
    "        Document(\n",
    "            page_content=item[\"answer\"],\n",
    "            metadata={\"question\": item[\"question\"]}\n",
    "        )\n",
    "        for item in qa_data\n",
    "    ]\n",
    "    \n",
    "    return documents\n",
    "\n",
    "print(prepare_qa_documents(\"./data/home0001qa.json\")[:5])"
   ]
  },
  {
   "cell_type": "code",
   "execution_count": 23,
   "metadata": {},
   "outputs": [],
   "source": [
    "from langchain_openai import OpenAIEmbeddings\n",
    "from langchain_openai import ChatOpenAI\n",
    "from langchain.vectorstores import Chroma\n",
    "from langchain.prompts import ChatPromptTemplate\n",
    "from langchain.schema.runnable import RunnablePassthrough\n",
    "from langchain_core.output_parsers import StrOutputParser\n",
    "\n",
    "def setup_rag(documents):\n",
    "    \n",
    "    embeddings = OpenAIEmbeddings()\n",
    "    vectorstore = Chroma.from_documents(documents, embeddings)\n",
    "    \n",
    "    llm = ChatOpenAI(model=\"gpt-4o-mini\")\n",
    "    rag_prompt = ChatPromptTemplate.from_messages([\n",
    "        (\"system\", \"\"\"Use the following similar Q&A pairs to help answer the question. \n",
    "        If the context is relevant, use it to answer. If not, say you don't have enough information.\n",
    "        \n",
    "        Context Q&A pairs:\n",
    "        {context}\n",
    "        \"\"\"),\n",
    "        (\"human\", \"{question}\")\n",
    "    ])\n",
    "    \n",
    "    chain = (\n",
    "        {\"context\": vectorstore.as_retriever(search_type=\"similarity\", k=3), \"question\": RunnablePassthrough()}\n",
    "        | rag_prompt\n",
    "        | llm\n",
    "        | StrOutputParser()\n",
    "    )\n",
    "    \n",
    "    return chain"
   ]
  },
  {
   "cell_type": "code",
   "execution_count": 7,
   "metadata": {},
   "outputs": [
    {
     "name": "stdout",
     "output_type": "stream",
     "text": [
      "Yes, when you buy a 0001 home, you own the title in the traditional way, which means you have full legal ownership of your home. You can buy it, sell it, or renovate it as you wish.\n"
     ]
    }
   ],
   "source": [
    "docs = prepare_qa_documents('./data/home0001qa.json')\n",
    "chain = setup_rag(docs)\n",
    "print(chain.invoke(\"Do i own my 0001 home outright?\"))"
   ]
  },
  {
   "cell_type": "markdown",
   "metadata": {},
   "source": [
    "## Basic RAG pipeline w/ Memory (LangGraph)\n",
    "https://python.langchain.com/docs/tutorials/qa_chat_history/"
   ]
  },
  {
   "cell_type": "code",
   "execution_count": 11,
   "metadata": {},
   "outputs": [],
   "source": [
    "from langchain.chains import create_retrieval_chain\n",
    "from langchain.chains.combine_documents import create_stuff_documents_chain\n",
    "from langchain.chains import create_history_aware_retriever\n",
    "from langchain_core.prompts import MessagesPlaceholder\n",
    "from langchain_core.prompts import ChatPromptTemplate\n",
    "\n",
    "llm = ChatOpenAI(model=\"gpt-4o-mini\")\n",
    "embeddings = OpenAIEmbeddings()\n",
    "documents = prepare_qa_documents(\"./data/home0001qa.json\") # from above\n",
    "vectorstore = Chroma.from_documents(documents, embeddings)\n",
    "document_retriever = vectorstore.as_retriever()\n",
    "\n",
    "# System prompt that explains how to handle questions with chat history\n",
    "history_context_prompt = (\n",
    "    \"Given a chat history and the latest user question \"\n",
    "    \"which might reference context in the chat history, \"\n",
    "    \"formulate a standalone question which can be understood \"\n",
    "    \"without the chat history. Do NOT answer the question, \"\n",
    "    \"just reformulate it if needed and otherwise return it as is.\"\n",
    ")\n",
    "# Create prompt template for contextualizing questions\n",
    "history_contextualization_template = ChatPromptTemplate.from_messages(\n",
    "    [\n",
    "        (\"system\", history_context_prompt),\n",
    "        MessagesPlaceholder(\"chat_history\"),\n",
    "        (\"human\", \"{input}\"),\n",
    "    ]\n",
    ")\n",
    "\n",
    "history_aware_retriever = create_history_aware_retriever(\n",
    "    llm, \n",
    "    document_retriever, \n",
    "    history_contextualization_template\n",
    ")\n",
    "\n",
    "### Answer question ###\n",
    "answer_generation_prompt = (\n",
    "    \"You are an assistant for question-answering tasks. \"\n",
    "    \"Use the following pieces of retrieved context to answer \"\n",
    "    \"the question. If you don't know the answer, say that you \"\n",
    "    \"don't know. Use three sentences maximum and keep the \"\n",
    "    \"answer concise.\"\n",
    "    \"\\n\\n\"\n",
    "    \"{context}\"\n",
    ")\n",
    "answer_generation_template = ChatPromptTemplate.from_messages(\n",
    "    [\n",
    "        (\"system\", answer_generation_prompt),\n",
    "        MessagesPlaceholder(\"chat_history\"),\n",
    "        (\"human\", \"{input}\"),\n",
    "    ]\n",
    ")\n",
    "\n",
    "# Create chain for generating answers from documents\n",
    "question_answer_chain = create_stuff_documents_chain(llm, answer_generation_template)\n",
    "\n",
    "# Create the complete RAG chain with memory\n",
    "rag_pipeline_with_memory = create_retrieval_chain(\n",
    "    history_aware_retriever, \n",
    "    question_answer_chain\n",
    ")"
   ]
  },
  {
   "cell_type": "markdown",
   "metadata": {},
   "source": [
    "User Question  \n",
    "↓  \n",
    "Add Chat History Context  \n",
    "↓  \n",
    "Find Relevant Documents  \n",
    "↓  \n",
    "Generate Answer  \n",
    "↓  \n",
    "Return Response"
   ]
  },
  {
   "cell_type": "code",
   "execution_count": 12,
   "metadata": {},
   "outputs": [],
   "source": [
    "from langgraph.checkpoint.memory import MemorySaver\n",
    "from langgraph.graph import START, StateGraph\n",
    "from langchain_core.messages import AIMessage, BaseMessage, HumanMessage\n",
    "from langgraph.graph.message import add_messages\n",
    "from typing import Sequence\n",
    "from typing_extensions import Annotated, TypedDict\n",
    "\n",
    "### Statefully manage chat history ###\n",
    "class State(TypedDict):\n",
    "    input: str\n",
    "    chat_history: Annotated[Sequence[BaseMessage], add_messages]\n",
    "    context: str\n",
    "    answer: str\n",
    "\n",
    "\n",
    "def call_model(state: State):\n",
    "    response = rag_pipeline_with_memory.invoke(state)\n",
    "    return {\n",
    "        \"chat_history\": [\n",
    "            HumanMessage(state[\"input\"]),\n",
    "            AIMessage(response[\"answer\"]),\n",
    "        ],\n",
    "        \"context\": response[\"context\"],\n",
    "        \"answer\": response[\"answer\"],\n",
    "    }\n",
    "\n",
    "\n",
    "workflow = StateGraph(state_schema=State)\n",
    "workflow.add_edge(START, \"model\")\n",
    "workflow.add_node(\"model\", call_model)\n",
    "\n",
    "memory = MemorySaver()\n",
    "app = workflow.compile(checkpointer=memory)"
   ]
  },
  {
   "cell_type": "code",
   "execution_count": 13,
   "metadata": {},
   "outputs": [
    {
     "name": "stdout",
     "output_type": "stream",
     "text": [
      "Home0001 is a global housing network that offers fully-equipped and furnished homes, allowing members to move in with just their suitcase. It provides the flexibility to swap cities and enjoy access to homes in various locations, along with community events. Additionally, members only pay a cleaning fee when using homes in other cities, without any nightly rates.\n"
     ]
    }
   ],
   "source": [
    "config = {\"configurable\": {\"thread_id\": \"abc123\"}}\n",
    "\n",
    "result = app.invoke(\n",
    "    {\"input\": \"hi my name is Flippy, what is home001?\"},\n",
    "    config=config,\n",
    ")\n",
    "print(result[\"answer\"])"
   ]
  },
  {
   "cell_type": "code",
   "execution_count": 14,
   "metadata": {},
   "outputs": [
    {
     "name": "stdout",
     "output_type": "stream",
     "text": [
      "Your name is Flippy.\n"
     ]
    }
   ],
   "source": [
    "result = app.invoke(\n",
    "    {\"input\": \"what's my name?\"},\n",
    "    config=config,\n",
    ")\n",
    "print(result[\"answer\"])"
   ]
  },
  {
   "cell_type": "markdown",
   "metadata": {},
   "source": [
    "Idea: Update Chat History w/ Operator corrected messages?"
   ]
  },
  {
   "cell_type": "code",
   "execution_count": 15,
   "metadata": {},
   "outputs": [
    {
     "name": "stdout",
     "output_type": "stream",
     "text": [
      "================================\u001b[1m Human Message \u001b[0m=================================\n",
      "\n",
      "hi my name is Flippy, what is home001?\n",
      "==================================\u001b[1m Ai Message \u001b[0m==================================\n",
      "\n",
      "Home0001 is a global housing network that offers fully-equipped and furnished homes, allowing members to move in with just their suitcase. It provides the flexibility to swap cities and enjoy access to homes in various locations, along with community events. Additionally, members only pay a cleaning fee when using homes in other cities, without any nightly rates.\n",
      "================================\u001b[1m Human Message \u001b[0m=================================\n",
      "\n",
      "what's my name?\n",
      "==================================\u001b[1m Ai Message \u001b[0m==================================\n",
      "\n",
      "Your name is Flippy.\n"
     ]
    }
   ],
   "source": [
    "chat_history = app.get_state(config).values[\"chat_history\"]\n",
    "for message in chat_history:\n",
    "    message.pretty_print()"
   ]
  },
  {
   "cell_type": "markdown",
   "metadata": {},
   "source": [
    "### All in one Agentic Workflow"
   ]
  },
  {
   "cell_type": "code",
   "execution_count": null,
   "metadata": {},
   "outputs": [],
   "source": [
    "llm = ChatOpenAI(model=\"gpt-4o-mini\")\n",
    "embeddings = OpenAIEmbeddings()\n",
    "documents = prepare_qa_documents(\"./data/home0001qa.json\") # from above\n",
    "memory = MemorySaver()\n",
    "vectorstore = Chroma.from_documents(documents, embeddings)\n",
    "document_retriever = vectorstore.as_retriever()\n",
    "\n"
   ]
  },
  {
   "cell_type": "markdown",
   "metadata": {},
   "source": [
    "## Manual LOCAL Document Grader (LangChain)\n",
    "https://langchain-ai.github.io/langgraph/tutorials/rag/langgraph_adaptive_rag_local/"
   ]
  },
  {
   "cell_type": "code",
   "execution_count": null,
   "metadata": {},
   "outputs": [],
   "source": [
    "# Doc grader instructions\n",
    "doc_grader_instructions = \"\"\"\n",
    "You are a grader assessing relevance of a retrieved document to a user question.\n",
    "If the document contains keyword(s) or semantic meaning related to the question, grade it as relevant.\n",
    "\"\"\"\n",
    "\n",
    "# Grader prompt\n",
    "doc_grader_prompt = \"\"\"\n",
    "Here is the retrieved document: \\n\\n {document} \\n\\n Here is the user question: \\n\\n {question}. \n",
    "\n",
    "This carefully and objectively assess whether the document contains at least some information that is relevant to the question.\n",
    "\n",
    "Return JSON with single key, binary_score, that is 'yes' or 'no' score to indicate whether the document contains at least some information that is relevant to the question.\n",
    "\"\"\""
   ]
  },
  {
   "cell_type": "code",
   "execution_count": null,
   "metadata": {},
   "outputs": [],
   "source": [
    "from langchain_core.messages import HumanMessage, SystemMessage\n",
    "from langchain_ollama import ChatOllama\n",
    "\n",
    "llm_model = \"llama3.2:3b-instruct-fp16\"\n",
    "\n",
    "llm_json_mode = ChatOllama(model=llm_model, temperature=0, format='json')\n",
    "\n",
    "from langchain_community.vectorstores import FAISS\n",
    "\n",
    "vectorstore = FAISS.from_documents(documents, embeddings)\n",
    "\n",
    "retriever = vectorstore.as_retriever(k=3)\n",
    "\n",
    "# Test\n",
    "question = \"Does furniture come included?\"\n",
    "docs = retriever.invoke(question)\n",
    "doc_txt = docs[0].page_content\n",
    "doc_grader_prompt_formatted = doc_grader_prompt.format(\n",
    "    document=doc_txt, question=question\n",
    ")\n",
    "result = llm_json_mode.invoke(\n",
    "    [SystemMessage(content=doc_grader_instructions)]\n",
    "    + [HumanMessage(content=doc_grader_prompt_formatted)]\n",
    ")\n",
    "\n",
    "print(doc_txt)\n",
    "print(json.loads(result.content))"
   ]
  },
  {
   "cell_type": "code",
   "execution_count": null,
   "metadata": {},
   "outputs": [],
   "source": [
    "def grade_documents(documents, question):\n",
    "  \n",
    "    # Score each doc\n",
    "    filtered_docs = []\n",
    "\n",
    "    for d in documents:\n",
    "        doc_grader_prompt_formatted = doc_grader_prompt.format(\n",
    "            document=d.page_content, question=question\n",
    "        )\n",
    "        result = llm_json_mode.invoke(\n",
    "            [SystemMessage(content=doc_grader_instructions)]\n",
    "            + [HumanMessage(content=doc_grader_prompt_formatted)]\n",
    "        )\n",
    "        grade = json.loads(result.content)[\"binary_score\"]\n",
    "        # Document relevant\n",
    "        if grade.lower() == \"yes\":\n",
    "            print(\"---GRADE: DOCUMENT RELEVANT---\")\n",
    "            filtered_docs.append(d)\n",
    "        # Document not relevant\n",
    "        else:\n",
    "            print(\"---GRADE: DOCUMENT NOT RELEVANT---\")\n",
    "            # We do not include the document in filtered_docs\n",
    "            continue\n",
    "\n",
    "    return {\"documents\": filtered_docs}"
   ]
  },
  {
   "cell_type": "code",
   "execution_count": null,
   "metadata": {},
   "outputs": [],
   "source": [
    "question = \"Do i own my 0001 home outright?\"\n",
    "retrieved_docs = retriever.invoke(question)\n",
    "filtered_docs = grade_documents(retrieved_docs, question)"
   ]
  },
  {
   "cell_type": "code",
   "execution_count": null,
   "metadata": {},
   "outputs": [],
   "source": [
    "# TO DO: \n",
    "# ANSWER GRADER "
   ]
  },
  {
   "cell_type": "markdown",
   "metadata": {},
   "source": [
    "## Links\n",
    "\n",
    "pip install --upgrade --quiet lark chromadb  \n",
    "restart kernel  "
   ]
  },
  {
   "cell_type": "code",
   "execution_count": 18,
   "metadata": {},
   "outputs": [],
   "source": [
    "from langchain_chroma import Chroma\n",
    "from langchain_core.documents import Document\n",
    "from langchain_openai import OpenAIEmbeddings\n",
    "\n",
    "docs = [\n",
    "    Document(\n",
    "        page_content=\"A 1 Bedroom apartment in New York\",\n",
    "        metadata={\"link\": \"https://www.home0001.com/property-type/1-bedroom\", \"area\": \"Lower East Side\"},\n",
    "    ),\n",
    "    Document(\n",
    "        page_content=\"A 1 Bedroom apartment in Paris\",\n",
    "        metadata={\"link\": \"https://www.home0001.com/property-type/1-bdrm-berlin\", \"area\": \"Schoeneberg\"},\n",
    "    ),\n",
    "]\n",
    "vectorstore = Chroma.from_documents(docs, OpenAIEmbeddings())"
   ]
  },
  {
   "cell_type": "code",
   "execution_count": 19,
   "metadata": {},
   "outputs": [],
   "source": [
    "from langchain.chains.query_constructor.schema import AttributeInfo\n",
    "from langchain.retrievers.self_query.base import SelfQueryRetriever\n",
    "from langchain_openai import ChatOpenAI\n",
    "\n",
    "metadata_field_info = [\n",
    "    AttributeInfo(\n",
    "        name=\"link\",\n",
    "        description=\"The link to the property\",\n",
    "        type=\"string\",\n",
    "    ),\n",
    "    AttributeInfo(\n",
    "        name=\"area\",\n",
    "        description=\"The area the property is in\",\n",
    "        type=\"integer\",\n",
    "    )\n",
    "]\n",
    "document_content_description = \"Brief overview of a property.\"\n",
    "llm = ChatOpenAI(temperature=0)\n",
    "retriever = SelfQueryRetriever.from_llm(\n",
    "    llm,\n",
    "    vectorstore,\n",
    "    document_content_description,\n",
    "    metadata_field_info,\n",
    "    enable_limit=True,\n",
    "    search_kwargs={\"k\": 1}\n",
    ")"
   ]
  },
  {
   "cell_type": "code",
   "execution_count": 20,
   "metadata": {},
   "outputs": [
    {
     "data": {
      "text/plain": [
       "[Document(id='8d57b9f0-ef5b-4be1-85bc-d907732883e0', metadata={'area': 'Schoeneberg', 'link': 'https://www.home0001.com/property-type/1-bdrm-berlin'}, page_content='A 1 Bedroom apartment in Berlin')]"
      ]
     },
     "execution_count": 20,
     "metadata": {},
     "output_type": "execute_result"
    }
   ],
   "source": [
    "retriever.invoke(\"I want to buy a property in Schoeneberg\", k=1) # k not working?\n",
    "\n"
   ]
  },
  {
   "cell_type": "code",
   "execution_count": 24,
   "metadata": {},
   "outputs": [],
   "source": [
    "docs = [\n",
    "    Document(\n",
    "        page_content=\"A 1 Bedroom apartment in New York. The link to the Dossier is: https://www.home0001.com/property-type/1-bedroom\",\n",
    "        metadata={\"link\": \"https://www.home0001.com/property-type/1-bedroom\", \"area\": \"Lower East Side\"},\n",
    "    ),\n",
    "    Document(\n",
    "        page_content=\"A 1 Bedroom apartment in Berlin. The link to the Dossier is: https://www.home0001.com/property-type/1-bdrm-berlin\",\n",
    "        metadata={\"link\": \"https://www.home0001.com/property-type/1-bdrm-berlin\", \"area\": \"Schoeneberg\"},\n",
    "    ),\n",
    "]\n",
    "\n",
    "def setup_rag(documents):\n",
    "    \n",
    "    embeddings = OpenAIEmbeddings()\n",
    "    vectorstore = Chroma.from_documents(documents, embeddings)\n",
    "    \n",
    "    llm = ChatOpenAI(model=\"gpt-4o-mini\")\n",
    "    rag_prompt = ChatPromptTemplate.from_messages([\n",
    "        (\"system\", \"\"\"Use the following information to answer your question. If a user asks about a specific neighborhood or property, feel free to send the coresponding link.\n",
    "        {context}\n",
    "        \"\"\"),\n",
    "        (\"human\", \"{question}\")\n",
    "    ])\n",
    "    \n",
    "    chain = (\n",
    "        {\"context\": vectorstore.as_retriever(search_type=\"similarity\", k=3), \"question\": RunnablePassthrough()}\n",
    "        | rag_prompt\n",
    "        | llm\n",
    "        | StrOutputParser()\n",
    "    )\n",
    "    \n",
    "    return chain"
   ]
  },
  {
   "cell_type": "code",
   "execution_count": 29,
   "metadata": {},
   "outputs": [
    {
     "name": "stdout",
     "output_type": "stream",
     "text": [
      "Yes, I have information about a 1-bedroom apartment in Berlin, specifically located in the Schoeneberg area. If you'd like more details, you can check out the dossier [here](https://www.home0001.com/property-type/1-bdrm-berlin).\n"
     ]
    }
   ],
   "source": [
    "chain = setup_rag(docs)\n",
    "print(chain.invoke(\"Do u have any places in berlin?\"))"
   ]
  },
  {
   "cell_type": "markdown",
   "metadata": {},
   "source": [
    "## Markdown Splitting\n",
    "https://python.langchain.com/docs/how_to/markdown_header_metadata_splitter/  \n"
   ]
  },
  {
   "cell_type": "code",
   "execution_count": 32,
   "metadata": {},
   "outputs": [],
   "source": [
    "def read_markdown_file(file_path):\n",
    "    with open(file_path, \"r\", encoding=\"utf-8\") as file:\n",
    "        return file.read()"
   ]
  },
  {
   "cell_type": "code",
   "execution_count": 38,
   "metadata": {},
   "outputs": [
    {
     "name": "stdout",
     "output_type": "stream",
     "text": [
      "[Document(metadata={'City': 'New York', 'Neighborhood': 'Home0001: Lower East Side'}, page_content=\"Location Link: https://www.home0001.com/property/lower-east-side  \\nALLEN ST.\\nNEW YORK\\nNY 10002  \\nHome0001’s new Lower East Side warehouse conversion offers 2-bedroom, 1-bedroom and studio apartments across six floors with a large elevator and roof deck.  \\nFrom furniture to cookware, linens to audio equipment, and pantry essentials to houseplants, each home comes fully equipped with everything you need, ready from day one.  \\nDeveloped in collaboration with world-renowned architects, every single thing in a 0001 home is thoughtfully designed with a focus on simplicity and functionality, so homebuyers can literally move in with nothing.  \\nLOCATION:  \\nA couple minutes walk from Metrograph, Clandestino, and all the deranged fun of Dimes Square, Home0001’s new warehouse conversion on the Lower East Side is close to the B, D, F, M, J, Z, 4, and 6 trains.  \\nBuilt in 1900 as a haberdashery and factory warehouse for Rubenstein & Lipton, this 7-story steel and brick tenement building at 48 Allen was turned into a Chinese evangelical church in 1998 with the expansion of Chinatown’s Fuzhou community. When the Church of the Living Lord moved to a bigger premises on Eldridge, the building was converted into Home0001's artist-led housing collective.  \\nBUILDING:  \\nCommunity dinners & events.\\nRoofdeck.\\nBike room.\\nLaundry room.\\nPackage room.\\nLarge elevator.\\nWheelchair access.\\nSUBWAY:\\nGrand: B, D (3 minute walk)\\nDelancey / Essex: F, M, J (6 minute walk)\\nBowery: J, Z (8 minute walk)\\nCanal: 4, 6 (14 minute walk)  \\nOverview:  \\nElevator building with roof terrace.\\nUnits fully furnished and equipped with all the essentials.\\nArtworks by internationally significant artists.\"), Document(metadata={'City': 'New York', 'Neighborhood': 'Home0001: Lower East Side', 'Property Type': 'Studio'}, page_content='Dossier Link: https://www.home0001.com/property-type/studio  \\nfrom $595,000  \\nApprox 422 sq ft  \\nDetails:  \\nEfficient multi-functional layout.  \\nHigh ceilings.  \\nLarge steel-framed windows.  \\nOutdoor space.  \\nThoughtfully-designed storage throughout.  \\nCustom queen-size bed with goose-down duvet and temperature-regulating bamboo sheets.  \\nWorking / dining area with full-sized table.  \\nFully-equipped kitchen with Blomberg refrigerator, Summit stove, and stainless steel Bosch appliances.  \\nOversized bathroom with floor-to-ceiling glass shower and Porcelanosa fixtures.  \\nHi-speed WiFi.  \\nFully equipped with everything you need, ready from day one, including contributions from leading designers such as New Tendency and Moroso, with ceramics by Hasami, bedding by Tekla, lighting by Flos, and audio equipment by Teenage Engineering.'), Document(metadata={'City': 'New York', 'Neighborhood': 'Home0001: Lower East Side', 'Property Type': 'Studio Max'}, page_content='Dossier Link: https://www.home0001.com/property-type/studio-max  \\nFrom $625,000  \\nApprox 435 sq ft  \\nDetails:  \\nEfficient multi-functional layout.  \\nHigh ceilings.  \\nLarge steel-framed windows.  \\nOutdoor space.  \\nThoughtfully-designed storage throughout.  \\nCustom queen-size bed with goose-down duvet and temperature-regulating bamboo sheets.  \\nWorking / dining area with full-sized table.  \\nFully-equipped kitchen with Blomberg refrigerator, Summit stove, and stainless steel Bosch appliances.  \\nOversized bathroom with floor-to-ceiling glass shower and Porcelanosa fixtures.  \\nHi-speed WiFi.  \\nFully equipped with everything you need, ready from day one, including contributions from leading designers such as New Tendency and Moroso, with ceramics by Hasami, bedding by Tekla, lighting by Flos, and audio equipment by Teenage Engineering.'), Document(metadata={'City': 'New York', 'Neighborhood': 'Home0001: Lower East Side', 'Property Type': '1 Bedroom'}, page_content=\"Dossier Link: https://www.home0001.com/property-type/1-bedroom  \\nFrom $1,650,000  \\nApprox 885 sq ft  \\n10'+ ceiling.  \\nLarge steel-framed windows.  \\nLarge master bedroom with en-suite bathroom.  \\nCustom king-size with bed goose-down duvet and temperature-regulating bamboo sheets.  \\nMulti-purpose dining room and study with extra large window.  \\nFully-equipped large kitchen with Blomberg refrigerator, Summit stove, and stainless steel Bosch appliances.  \\nTwo oversized bathrooms with floor-to-ceiling glass showers en-suite and Porcelanosa fixtures.  \\nThoughtfully-designed storage throughout.  \\nHi-speed WiFi.  \\nFully equipped with everything you need, ready from day one, including contributions from leading designers such as New Tendency and Moroso, with ceramics by Hasami, bedding by Tekla, lighting by Flos, and audio equipment by Teenage Engineering.\"), Document(metadata={'City': 'New York', 'Neighborhood': 'Home0001: Bed-Stuy'}, page_content='Location Link: https://www.home0001.com/property/bedstuy  \\nBED-STUY\\nBROOKLYN\\nNY 11233  \\nHOME0001’s new Bed-Stuy location offers 1 and 2-bedroom apartments in a new building with an elevator and a communal roof deck. Each property is designed in collaboration with world-renowned architects and comes fully furnished and equipped, ready from day one. Owners of 0001 homes can stay for free in other locations whenever they like.  \\nLOCATION:  \\nWithin walking distance of Trad Room, Winona’s, Brooklyn Botanic Garden, and Prospect Park, HOME0001’s Bed-Stuy location is also close to the A, C, G, J, M, and Z trains into Manhattan.  \\nOriginally settled by the Dutch in the 17th century, Bed-Stuy’s name combines the hamlets of Bedford (named after a market village in England) and Stuyvesant Heights (named after Peter Stuyvesant, the last Governor of the Colony of New Netherland). Bed-Stuy evolved into a more densely residential neighborhood through the 19th and early 20th centuries and, in the mid-20th century, became a cultural and political home for New York’s African American communities and a hub for civil rights activism. Bed-Stuy has been a major hotbed for music since the 1910s, with early jazz pioneers and modern hip-hop artists hailing from the neighborhood.  \\nBUILDING:  \\nCommunity dinners & events\\nRoofdeck\\nBike room\\nLaundry room\\nPackage room\\nLarge elevator\\nWheelchair access\\nSUBWAY:  \\nUtica: A,C,E (5 minute walk)\\nHalsey: J (19 minute walk)')]\n"
     ]
    }
   ],
   "source": [
    "from langchain_text_splitters import MarkdownHeaderTextSplitter\n",
    "\n",
    "headers_to_split_on = [\n",
    "    (\"#\", \"City\"),\n",
    "    (\"##\", \"Neighborhood\"),\n",
    "    (\"###\", \"Property Type\"),\n",
    "]\n",
    "\n",
    "markdown_document = read_markdown_file(\"./data/properties.md\")\n",
    "markdown_splitter = MarkdownHeaderTextSplitter(headers_to_split_on)\n",
    "md_header_splits = markdown_splitter.split_text(markdown_document)\n",
    "print(md_header_splits[:5])"
   ]
  },
  {
   "cell_type": "markdown",
   "metadata": {},
   "source": [
    "Note: The structure with metadata allows for SelfQueryRetriever"
   ]
  },
  {
   "cell_type": "markdown",
   "metadata": {},
   "source": [
    "Possible to constrain chunk size:  \n",
    "Within each markdown group we can then apply any text splitter we want, such as RecursiveCharacterTextSplitter, which allows for further control of the chunk size."
   ]
  },
  {
   "cell_type": "code",
   "execution_count": 39,
   "metadata": {},
   "outputs": [],
   "source": [
    "def setup_rag(documents):\n",
    "    \n",
    "    embeddings = OpenAIEmbeddings()\n",
    "    vectorstore = Chroma.from_documents(documents, embeddings)\n",
    "    \n",
    "    llm = ChatOpenAI(model=\"gpt-4o-mini\")\n",
    "    rag_prompt = ChatPromptTemplate.from_messages([\n",
    "        (\"system\", \"\"\"Use the following information to answer your question. If a user asks about a specific neighborhood or property, feel free to send the corresponding link.\n",
    "        {context}\n",
    "        \"\"\"),\n",
    "        (\"human\", \"{question}\")\n",
    "    ])\n",
    "    \n",
    "    chain = (\n",
    "        {\"context\": vectorstore.as_retriever(search_type=\"similarity\", k=3), \"question\": RunnablePassthrough()}\n",
    "        | rag_prompt\n",
    "        | llm\n",
    "        | StrOutputParser()\n",
    "    )\n",
    "    \n",
    "    return chain"
   ]
  },
  {
   "cell_type": "code",
   "execution_count": 40,
   "metadata": {},
   "outputs": [],
   "source": [
    "chain = setup_rag(md_header_splits)"
   ]
  },
  {
   "cell_type": "code",
   "execution_count": 42,
   "metadata": {},
   "outputs": [
    {
     "name": "stdout",
     "output_type": "stream",
     "text": [
      "Yes, we have 1 bedroom apartments available in the Lower East Side. You can check them out through this link: [1 Bedroom apartments in Lower East Side](https://www.home0001.com/property-type/1-bedroom).\n"
     ]
    }
   ],
   "source": [
    "print(chain.invoke(\"Do u have a 1 bedroom in LES?\"))"
   ]
  },
  {
   "cell_type": "markdown",
   "metadata": {},
   "source": [
    "## Agentic RAG"
   ]
  },
  {
   "cell_type": "code",
   "execution_count": 48,
   "metadata": {},
   "outputs": [],
   "source": [
    "from langchain_community.vectorstores import FAISS\n",
    "\n",
    "def local_vector_db(documents, embeddings):\n",
    "\n",
    "    vectorstore = FAISS.from_documents(\n",
    "        documents, \n",
    "        embeddings\n",
    "    )\n",
    "    vectorstore.save_local(\"./FAISS\", \"test-db\")\n",
    "\n",
    "    return vectorstore"
   ]
  },
  {
   "cell_type": "code",
   "execution_count": 49,
   "metadata": {},
   "outputs": [],
   "source": [
    "from langchain.tools.retriever import create_retriever_tool\n",
    "\n",
    "documents = md_header_splits\n",
    "embeddings = OpenAIEmbeddings()\n",
    "vectorstore = local_vector_db(documents, embeddings)\n",
    "retriever = vectorstore.as_retriever()\n",
    "\n",
    "retriever_tool = create_retriever_tool(\n",
    "    retriever,\n",
    "    \"h0001_retriever\",\n",
    "    \"Search and return information about HOME0001 properties.\",\n",
    ")\n",
    "tools = [retriever_tool]"
   ]
  },
  {
   "cell_type": "code",
   "execution_count": 51,
   "metadata": {},
   "outputs": [
    {
     "data": {
      "text/plain": [
       "\"Location Link: https://www.home0001.com/property/lower-east-side  \\nALLEN ST.\\nNEW YORK\\nNY 10002  \\nHome0001’s new Lower East Side warehouse conversion offers 2-bedroom, 1-bedroom and studio apartments across six floors with a large elevator and roof deck.  \\nFrom furniture to cookware, linens to audio equipment, and pantry essentials to houseplants, each home comes fully equipped with everything you need, ready from day one.  \\nDeveloped in collaboration with world-renowned architects, every single thing in a 0001 home is thoughtfully designed with a focus on simplicity and functionality, so homebuyers can literally move in with nothing.  \\nLOCATION:  \\nA couple minutes walk from Metrograph, Clandestino, and all the deranged fun of Dimes Square, Home0001’s new warehouse conversion on the Lower East Side is close to the B, D, F, M, J, Z, 4, and 6 trains.  \\nBuilt in 1900 as a haberdashery and factory warehouse for Rubenstein & Lipton, this 7-story steel and brick tenement building at 48 Allen was turned into a Chinese evangelical church in 1998 with the expansion of Chinatown’s Fuzhou community. When the Church of the Living Lord moved to a bigger premises on Eldridge, the building was converted into Home0001's artist-led housing collective.  \\nBUILDING:  \\nCommunity dinners & events.\\nRoofdeck.\\nBike room.\\nLaundry room.\\nPackage room.\\nLarge elevator.\\nWheelchair access.\\nSUBWAY:\\nGrand: B, D (3 minute walk)\\nDelancey / Essex: F, M, J (6 minute walk)\\nBowery: J, Z (8 minute walk)\\nCanal: 4, 6 (14 minute walk)  \\nOverview:  \\nElevator building with roof terrace.\\nUnits fully furnished and equipped with all the essentials.\\nArtworks by internationally significant artists.\\n\\nDossier Link: https://www.home0001.com/property-type/1-bedroom-bedstuy  \\nStarting from $715,000  \\n633 sq ft  \\nOverview:  \\nElevator building.  \\nThird floor.  \\nSouthwest exposure.  \\nFully furnished and equipped with all the essentials.  \\nArtworks by internationally significant artists.  \\nDetails:  \\n10'+ ceiling.  \\nLarge steel-framed windows.  \\nCustom king-size with bed goose-down duvet and temperature-regulating bamboo sheets.  \\nMulti-purpose dining room and study.  \\nFully-equipped large kitchen with Blomberg refrigerator, Summit stove, and stainless steel Bosch appliances.  \\nTwo bathrooms including one full sized bathtub, one floor-to-ceiling glass shower en-suite and Porcelanosa fixtures.  \\nGenerous, thoughtfully-designed storage throughout.  \\nHi-speed WiFi.  \\nFully equipped with everything you need, ready from day one, including contributions from leading designers such as New Tendency and Moroso, with ceramics by Hasami, bedding by Tekla, lighting by Flos, and audio equipment by Teenage Engineering.\\\\\\n\\nLocation Link: https://www.home0001.com/property/bedstuy  \\nBED-STUY\\nBROOKLYN\\nNY 11233  \\nHOME0001’s new Bed-Stuy location offers 1 and 2-bedroom apartments in a new building with an elevator and a communal roof deck. Each property is designed in collaboration with world-renowned architects and comes fully furnished and equipped, ready from day one. Owners of 0001 homes can stay for free in other locations whenever they like.  \\nLOCATION:  \\nWithin walking distance of Trad Room, Winona’s, Brooklyn Botanic Garden, and Prospect Park, HOME0001’s Bed-Stuy location is also close to the A, C, G, J, M, and Z trains into Manhattan.  \\nOriginally settled by the Dutch in the 17th century, Bed-Stuy’s name combines the hamlets of Bedford (named after a market village in England) and Stuyvesant Heights (named after Peter Stuyvesant, the last Governor of the Colony of New Netherland). Bed-Stuy evolved into a more densely residential neighborhood through the 19th and early 20th centuries and, in the mid-20th century, became a cultural and political home for New York’s African American communities and a hub for civil rights activism. Bed-Stuy has been a major hotbed for music since the 1910s, with early jazz pioneers and modern hip-hop artists hailing from the neighborhood.  \\nBUILDING:  \\nCommunity dinners & events\\nRoofdeck\\nBike room\\nLaundry room\\nPackage room\\nLarge elevator\\nWheelchair access\\nSUBWAY:  \\nUtica: A,C,E (5 minute walk)\\nHalsey: J (19 minute walk)\\n\\nDossier Link: https://www.home0001.com/property-type/1-bedroom  \\nFrom $1,650,000  \\nApprox 885 sq ft  \\n10'+ ceiling.  \\nLarge steel-framed windows.  \\nLarge master bedroom with en-suite bathroom.  \\nCustom king-size with bed goose-down duvet and temperature-regulating bamboo sheets.  \\nMulti-purpose dining room and study with extra large window.  \\nFully-equipped large kitchen with Blomberg refrigerator, Summit stove, and stainless steel Bosch appliances.  \\nTwo oversized bathrooms with floor-to-ceiling glass showers en-suite and Porcelanosa fixtures.  \\nThoughtfully-designed storage throughout.  \\nHi-speed WiFi.  \\nFully equipped with everything you need, ready from day one, including contributions from leading designers such as New Tendency and Moroso, with ceramics by Hasami, bedding by Tekla, lighting by Flos, and audio equipment by Teenage Engineering.\""
      ]
     },
     "execution_count": 51,
     "metadata": {},
     "output_type": "execute_result"
    }
   ],
   "source": [
    "retriever_tool.invoke(\"Do u have a 1 bedroom in Lower East Side?\")\n"
   ]
  },
  {
   "cell_type": "markdown",
   "metadata": {},
   "source": [
    "## Combined Data w/ Self Querying Retriever\n",
    "\n",
    "Retriever that uses a vector store and an LLM to generate the vector store queries.\n",
    "\n"
   ]
  },
  {
   "cell_type": "code",
   "execution_count": 55,
   "metadata": {},
   "outputs": [],
   "source": [
    "import json\n",
    "\n",
    "def prepare_json_documents(file_path):\n",
    "    with open(file_path, 'r') as f:\n",
    "        qa_data = json.load(f)\n",
    "    \n",
    "    documents = [\n",
    "        Document(\n",
    "            page_content=item[\"answer\"],\n",
    "            metadata={\"question\": item[\"question\"], \"source\": \"FAQ\"}\n",
    "        )\n",
    "        for item in qa_data\n",
    "    ]\n",
    "    \n",
    "    return documents"
   ]
  },
  {
   "cell_type": "code",
   "execution_count": 71,
   "metadata": {},
   "outputs": [],
   "source": [
    "def prepare_markdown_documents(file_path):\n",
    "\n",
    "    headers_to_split_on = [\n",
    "        (\"#\", \"City\"),\n",
    "        (\"##\", \"Neighborhood\"),\n",
    "        (\"###\", \"Property Type\"),\n",
    "    ]\n",
    "\n",
    "    with open(file_path, \"r\", encoding=\"utf-8\") as file:\n",
    "        markdown_splitter = MarkdownHeaderTextSplitter(headers_to_split_on)\n",
    "        documents = markdown_splitter.split_text(file.read())\n",
    "\n",
    "    # Add \"source\": \"Properties\" to the metadata of each document\n",
    "    for document in documents:\n",
    "        document.metadata[\"source\"] = \"Properties\"\n",
    "\n",
    "    return documents"
   ]
  },
  {
   "cell_type": "code",
   "execution_count": 72,
   "metadata": {},
   "outputs": [
    {
     "name": "stdout",
     "output_type": "stream",
     "text": [
      "[Document(metadata={'City': 'New York', 'Neighborhood': 'Home0001: Lower East Side', 'source': 'Properties'}, page_content=\"Location Link: https://www.home0001.com/property/lower-east-side  \\nALLEN ST.\\nNEW YORK\\nNY 10002  \\nHome0001’s new Lower East Side warehouse conversion offers 2-bedroom, 1-bedroom and studio apartments across six floors with a large elevator and roof deck.  \\nFrom furniture to cookware, linens to audio equipment, and pantry essentials to houseplants, each home comes fully equipped with everything you need, ready from day one.  \\nDeveloped in collaboration with world-renowned architects, every single thing in a 0001 home is thoughtfully designed with a focus on simplicity and functionality, so homebuyers can literally move in with nothing.  \\nLOCATION:  \\nA couple minutes walk from Metrograph, Clandestino, and all the deranged fun of Dimes Square, Home0001’s new warehouse conversion on the Lower East Side is close to the B, D, F, M, J, Z, 4, and 6 trains.  \\nBuilt in 1900 as a haberdashery and factory warehouse for Rubenstein & Lipton, this 7-story steel and brick tenement building at 48 Allen was turned into a Chinese evangelical church in 1998 with the expansion of Chinatown’s Fuzhou community. When the Church of the Living Lord moved to a bigger premises on Eldridge, the building was converted into Home0001's artist-led housing collective.  \\nBUILDING:  \\nCommunity dinners & events.\\nRoofdeck.\\nBike room.\\nLaundry room.\\nPackage room.\\nLarge elevator.\\nWheelchair access.\\nSUBWAY:\\nGrand: B, D (3 minute walk)\\nDelancey / Essex: F, M, J (6 minute walk)\\nBowery: J, Z (8 minute walk)\\nCanal: 4, 6 (14 minute walk)  \\nOverview:  \\nElevator building with roof terrace.\\nUnits fully furnished and equipped with all the essentials.\\nArtworks by internationally significant artists.\")]\n"
     ]
    }
   ],
   "source": [
    "json_documents = prepare_json_documents(\"./data/home0001qa.json\")\n",
    "markdown_documents = prepare_markdown_documents(\"./data/properties.md\")\n",
    "print(markdown_documents[:1])\n",
    "\n",
    "# Combine both lists into one\n",
    "combined_documents = json_documents + markdown_documents"
   ]
  },
  {
   "cell_type": "code",
   "execution_count": 74,
   "metadata": {},
   "outputs": [],
   "source": [
    "from langchain_chroma import Chroma\n",
    "\n",
    "embeddings = OpenAIEmbeddings()\n",
    "\n",
    "vectorstore = Chroma.from_documents(\n",
    "    combined_documents,\n",
    "    embeddings,\n",
    "    persist_directory=\"./chroma_langchain_db\"\n",
    "  )\n",
    "\n",
    "# document_retriever = vector_store.as_retriever()"
   ]
  },
  {
   "cell_type": "code",
   "execution_count": 66,
   "metadata": {},
   "outputs": [],
   "source": [
    "def setup_rag(vectorstore):\n",
    "    \n",
    "    llm = ChatOpenAI(model=\"gpt-4o-mini\")\n",
    "    rag_prompt = ChatPromptTemplate.from_messages([\n",
    "        (\"system\", \"\"\"Use the following information to answer your question. If a user asks about a specific neighborhood or property, feel free to send the corresponding link.\n",
    "        {context}\n",
    "        \"\"\"),\n",
    "        (\"human\", \"{question}\")\n",
    "    ])\n",
    "    \n",
    "    chain = (\n",
    "        {\"context\": vectorstore.as_retriever(search_type=\"similarity\", k=3), \"question\": RunnablePassthrough()}\n",
    "        | rag_prompt\n",
    "        | llm\n",
    "        | StrOutputParser()\n",
    "    )\n",
    "    \n",
    "    return chain"
   ]
  },
  {
   "cell_type": "code",
   "execution_count": 67,
   "metadata": {},
   "outputs": [],
   "source": [
    "chain = setup_rag(vectorstore)"
   ]
  },
  {
   "cell_type": "code",
   "execution_count": 69,
   "metadata": {},
   "outputs": [
    {
     "name": "stdout",
     "output_type": "stream",
     "text": [
      "No, we are not open to negotiation on price. The practice of negotiation has been shown to systemically disadvantage certain buyer groups, and bidding wars can drive prices up unreasonably. We meticulously research the market and negotiate the best price for our community based on comparable homes recently sold. By representing a large community of buyers, we can negotiate discounts on entire buildings from developers.\n"
     ]
    }
   ],
   "source": [
    "print(chain.invoke(\"Are you open to negotiation on price?\"))"
   ]
  },
  {
   "cell_type": "code",
   "execution_count": 77,
   "metadata": {},
   "outputs": [],
   "source": [
    "def setup_rag(vectorstore):\n",
    "\n",
    "    metadata_field_info = [\n",
    "        AttributeInfo(\n",
    "            name=\"source\",\n",
    "            description=\"Type of information source. Either FAQ or Properties. Use Properties for info about available properties and Neighborhoods. Use FAQ for general questions\",\n",
    "            type=\"string\",\n",
    "        ),\n",
    "        AttributeInfo(\n",
    "            name=\"City\",\n",
    "            description=\"The City a property is in.\",\n",
    "            type=\"string\",\n",
    "        ),\n",
    "        AttributeInfo(\n",
    "            name=\"Property Type\",\n",
    "            description=\"The kind of property (e.g. One Bedroom, Studio, etc.).\",\n",
    "            type=\"string\",\n",
    "        )\n",
    "    ]\n",
    "\n",
    "    llm = ChatOpenAI(model=\"gpt-4o-mini\")\n",
    "\n",
    "    rag_prompt = ChatPromptTemplate.from_messages([\n",
    "        (\"system\", \"\"\"Use the following information to answer your question. If a user asks about a specific neighborhood or property, feel free to send the corresponding link.\n",
    "        {context}\n",
    "        \"\"\"),\n",
    "        (\"human\", \"{question}\")\n",
    "    ])\n",
    "\n",
    "    document_content_description = \"Information about the housing collective HOME0001 and their available properties.\"\n",
    "\n",
    "    retriever = SelfQueryRetriever.from_llm(\n",
    "        llm,\n",
    "        vectorstore,\n",
    "        document_content_description,\n",
    "        metadata_field_info,\n",
    "        enable_limit=True,\n",
    "        search_kwargs={\"k\": 2}\n",
    "    )\n",
    "    \n",
    "    chain = (\n",
    "        {\"context\": retriever.invoke(), \"question\": RunnablePassthrough()}\n",
    "        | rag_prompt\n",
    "        | llm\n",
    "        | StrOutputParser()\n",
    "    )\n",
    "    \n",
    "    return chain"
   ]
  },
  {
   "cell_type": "code",
   "execution_count": 78,
   "metadata": {},
   "outputs": [
    {
     "ename": "TypeError",
     "evalue": "BaseRetriever.invoke() missing 1 required positional argument: 'input'",
     "output_type": "error",
     "traceback": [
      "\u001b[31m---------------------------------------------------------------------------\u001b[39m",
      "\u001b[31mTypeError\u001b[39m                                 Traceback (most recent call last)",
      "\u001b[36mCell\u001b[39m\u001b[36m \u001b[39m\u001b[32mIn[78]\u001b[39m\u001b[32m, line 1\u001b[39m\n\u001b[32m----> \u001b[39m\u001b[32m1\u001b[39m chain = \u001b[43msetup_rag\u001b[49m\u001b[43m(\u001b[49m\u001b[43mvectorstore\u001b[49m\u001b[43m)\u001b[49m\n",
      "\u001b[36mCell\u001b[39m\u001b[36m \u001b[39m\u001b[32mIn[77]\u001b[39m\u001b[32m, line 42\u001b[39m, in \u001b[36msetup_rag\u001b[39m\u001b[34m(vectorstore)\u001b[39m\n\u001b[32m     30\u001b[39m document_content_description = \u001b[33m\"\u001b[39m\u001b[33mInformation about the housing collective HOME0001 and their available properties.\u001b[39m\u001b[33m\"\u001b[39m\n\u001b[32m     32\u001b[39m retriever = SelfQueryRetriever.from_llm(\n\u001b[32m     33\u001b[39m     llm,\n\u001b[32m     34\u001b[39m     vectorstore,\n\u001b[32m   (...)\u001b[39m\u001b[32m     38\u001b[39m     search_kwargs={\u001b[33m\"\u001b[39m\u001b[33mk\u001b[39m\u001b[33m\"\u001b[39m: \u001b[32m2\u001b[39m}\n\u001b[32m     39\u001b[39m )\n\u001b[32m     41\u001b[39m chain = (\n\u001b[32m---> \u001b[39m\u001b[32m42\u001b[39m     {\u001b[33m\"\u001b[39m\u001b[33mcontext\u001b[39m\u001b[33m\"\u001b[39m: \u001b[43mretriever\u001b[49m\u001b[43m.\u001b[49m\u001b[43minvoke\u001b[49m\u001b[43m(\u001b[49m\u001b[43m)\u001b[49m, \u001b[33m\"\u001b[39m\u001b[33mquestion\u001b[39m\u001b[33m\"\u001b[39m: RunnablePassthrough()}\n\u001b[32m     43\u001b[39m     | rag_prompt\n\u001b[32m     44\u001b[39m     | llm\n\u001b[32m     45\u001b[39m     | StrOutputParser()\n\u001b[32m     46\u001b[39m )\n\u001b[32m     48\u001b[39m \u001b[38;5;28;01mreturn\u001b[39;00m chain\n",
      "\u001b[31mTypeError\u001b[39m: BaseRetriever.invoke() missing 1 required positional argument: 'input'"
     ]
    }
   ],
   "source": [
    "chain = setup_rag(vectorstore)"
   ]
  },
  {
   "cell_type": "code",
   "execution_count": 76,
   "metadata": {},
   "outputs": [
    {
     "name": "stdout",
     "output_type": "stream",
     "text": [
      "I currently don't have specific listings for places in Berlin. However, you can check real estate websites or local listings for available properties in that area. If you're looking for information about a specific neighborhood or property, let me know!\n"
     ]
    }
   ],
   "source": [
    "print(chain.invoke(\"Do u have any places in berlin?\"))"
   ]
  }
 ],
 "metadata": {
  "kernelspec": {
   "display_name": "chatbot",
   "language": "python",
   "name": "python3"
  },
  "language_info": {
   "codemirror_mode": {
    "name": "ipython",
    "version": 3
   },
   "file_extension": ".py",
   "mimetype": "text/x-python",
   "name": "python",
   "nbconvert_exporter": "python",
   "pygments_lexer": "ipython3",
   "version": "3.11.11"
  }
 },
 "nbformat": 4,
 "nbformat_minor": 2
}
