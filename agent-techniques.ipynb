{
 "cells": [
  {
   "cell_type": "markdown",
   "metadata": {},
   "source": [
    "## Structured Output LLM"
   ]
  },
  {
   "cell_type": "code",
   "execution_count": 1,
   "metadata": {},
   "outputs": [],
   "source": [
    "import os\n",
    "from dotenv import load_dotenv\n",
    "from langchain_anthropic import ChatAnthropic\n",
    "\n",
    "load_dotenv()\n",
    "\n",
    "ANTHROPIC_API_KEY = os.getenv(\"ANTHROPIC_API_KEY\")\n",
    "\n",
    "llm = ChatAnthropic(model=\"claude-3-5-sonnet-latest\")"
   ]
  },
  {
   "cell_type": "code",
   "execution_count": 2,
   "metadata": {},
   "outputs": [],
   "source": [
    "from pydantic import BaseModel, Field\n",
    "\n",
    "# Schema for structured output\n",
    "class SearchQuery(BaseModel):\n",
    "    search_query: str = Field(None, description=\"Query that is optimized for web search.\")\n",
    "    justification: str = Field(None, description=\"Why is this query relevant for the users's request?\")\n",
    "\n",
    "structured_llm = llm.with_structured_output(SearchQuery)"
   ]
  },
  {
   "cell_type": "code",
   "execution_count": 3,
   "metadata": {},
   "outputs": [
    {
     "name": "stdout",
     "output_type": "stream",
     "text": [
      "search_query=None justification=None\n"
     ]
    }
   ],
   "source": [
    "print(SearchQuery())"
   ]
  },
  {
   "cell_type": "code",
   "execution_count": 4,
   "metadata": {},
   "outputs": [
    {
     "name": "stdout",
     "output_type": "stream",
     "text": [
      "Lemaire black boxy jacket berlin stores retailers\n",
      "This search query will help find retail locations in Berlin that carry Lemaire clothing, specifically focusing on their black boxy jackets. Lemaire is a luxury fashion brand, and we need to find authorized retailers or boutiques in Berlin that stock their pieces.\n"
     ]
    }
   ],
   "source": [
    "output = structured_llm.invoke(\"where can i but a black boxy lemaire jacket in berlin?\")\n",
    "print(output.search_query)\n",
    "print(output.justification)"
   ]
  },
  {
   "cell_type": "markdown",
   "metadata": {},
   "source": [
    "## Basic Tool Calling  \n",
    "TO DO: How to run functions effectively?"
   ]
  },
  {
   "cell_type": "code",
   "execution_count": null,
   "metadata": {},
   "outputs": [
    {
     "name": "stdout",
     "output_type": "stream",
     "text": [
      "[{'name': 'multiply', 'args': {'a': 2, 'b': 3}, 'id': 'toolu_01Knkm6Rm4nvW5zo13dnBZ9m', 'type': 'tool_call'}]\n"
     ]
    }
   ],
   "source": [
    "# Define a tool\n",
    "def multiply(a: int, b: int) -> int:\n",
    "    return a * b\n",
    "\n",
    "llm_with_tools = llm.bind_tools([multiply])\n",
    "\n",
    "# This takes the input and creates the arguments to run the function, but it does not run the function\n",
    "output = llm_with_tools.invoke(\"What's 2 times 3?\")\n",
    "\n",
    "print(output.tool_calls)"
   ]
  },
  {
   "cell_type": "code",
   "execution_count": 14,
   "metadata": {},
   "outputs": [
    {
     "name": "stdout",
     "output_type": "stream",
     "text": [
      "content=[{'citations': None, 'text': \"I'll help you multiply 2 and 3 using the multiply function.\", 'type': 'text'}, {'id': 'toolu_01Knkm6Rm4nvW5zo13dnBZ9m', 'input': {'a': 2, 'b': 3}, 'name': 'multiply', 'type': 'tool_use'}] response_metadata={'id': 'msg_01KF49Mmr84snYowaMjeZa4r', 'model': 'claude-3-5-sonnet-20241022', 'stop_reason': 'tool_use', 'stop_sequence': None, 'usage': {'cache_creation_input_tokens': 0, 'cache_read_input_tokens': 0, 'input_tokens': 383, 'output_tokens': 86}} id='run-43522e90-e23a-4a22-9caa-b2c5c7c54e3d-0' tool_calls=[{'name': 'multiply', 'args': {'a': 2, 'b': 3}, 'id': 'toolu_01Knkm6Rm4nvW5zo13dnBZ9m', 'type': 'tool_call'}] usage_metadata={'input_tokens': 383, 'output_tokens': 86, 'total_tokens': 469}\n"
     ]
    }
   ],
   "source": [
    "print(output)"
   ]
  },
  {
   "cell_type": "code",
   "execution_count": 6,
   "metadata": {},
   "outputs": [
    {
     "name": "stdout",
     "output_type": "stream",
     "text": [
      "[{'a': 2, 'b': 3}]\n",
      "6\n"
     ]
    }
   ],
   "source": [
    "args_list = [item['args'] for item in output.tool_calls]\n",
    "print(args_list)\n",
    "\n",
    "for args in args_list:\n",
    "    result = multiply(**args)\n",
    "    print(result)"
   ]
  },
  {
   "cell_type": "markdown",
   "metadata": {},
   "source": [
    "## Basic Prompt Chaining"
   ]
  },
  {
   "cell_type": "code",
   "execution_count": 7,
   "metadata": {},
   "outputs": [],
   "source": [
    "from typing_extensions import TypedDict\n",
    "\n",
    "#Graph State\n",
    "class State(TypedDict):\n",
    "    topic: str\n",
    "    joke: str\n",
    "    improved_joke: str\n",
    "    polished_joke: str\n"
   ]
  },
  {
   "cell_type": "code",
   "execution_count": 8,
   "metadata": {},
   "outputs": [],
   "source": [
    "# Nodes\n",
    "def generate_joke(state: State):\n",
    "\n",
    "    result = llm.invoke(f\"Write a short joke about {state['topic']}\")\n",
    "    return {\"joke\": result.content} # <- writes back to State!!\n",
    "\n",
    "def improve_joke(state: State):\n",
    "\n",
    "    result = llm.invoke(f\"Make this joke funnier by adding wordplay: {state['joke']}\")\n",
    "    return {\"improved_joke\": result.content}\n",
    "\n",
    "def polish_joke(state: State):\n",
    "\n",
    "    result = llm.invoke(f\"Add a surprising twist to this joke: {state['improved_joke']}\")\n",
    "    return {\"polished_joke\": result.content}\n",
    "\n",
    "# Schema for structured output\n",
    "class Punchline(BaseModel):\n",
    "    answer: str = Field(None, description=\"Does this joke have a punchline? Answer Yes or No.\")\n",
    "\n",
    "structured_llm = llm.with_structured_output(Punchline)\n",
    "\n",
    "# Conditional edge function\n",
    "def check_punchline(state: State):\n",
    "\n",
    "    output = structured_llm.invoke(state['joke'])\n",
    "    if output.answer.lower() == \"yes\":\n",
    "        return \"Pass\"\n",
    "    else:\n",
    "        print(f\"Punchline check returned: {output.answer}\")\n",
    "        return \"Fail\""
   ]
  },
  {
   "cell_type": "code",
   "execution_count": 9,
   "metadata": {},
   "outputs": [
    {
     "name": "stdout",
     "output_type": "stream",
     "text": [
      "Yes\n"
     ]
    }
   ],
   "source": [
    "output = structured_llm.invoke(\"Why did the chicken cross the road? To get to the other side!\")\n",
    "print(output.answer)"
   ]
  },
  {
   "cell_type": "code",
   "execution_count": 10,
   "metadata": {},
   "outputs": [
    {
     "data": {
      "image/jpeg": "[encoded data removed]",
      "text/plain": [
       "<IPython.core.display.Image object>"
      ]
     },
     "metadata": {},
     "output_type": "display_data"
    }
   ],
   "source": [
    "from langgraph.graph import StateGraph, START, END\n",
    "from IPython.display import Image, display\n",
    "\n",
    "# Build workflow\n",
    "workflow = StateGraph(State)\n",
    "\n",
    "# Add nodes\n",
    "workflow.add_node(\"generate_joke\", generate_joke)\n",
    "workflow.add_node(\"improve_joke\", improve_joke)\n",
    "workflow.add_node(\"polish_joke\", polish_joke)\n",
    "\n",
    "# Add edges to connect nodes\n",
    "workflow.add_edge(START, \"generate_joke\")\n",
    "workflow.add_conditional_edges(\n",
    "    \"generate_joke\", check_punchline, {\"Pass\": \"improve_joke\", \"Fail\": END}\n",
    ")\n",
    "workflow.add_edge(\"improve_joke\", \"polish_joke\")\n",
    "workflow.add_edge(\"polish_joke\", END)\n",
    "\n",
    "# Compile\n",
    "graph = workflow.compile()\n",
    "\n",
    "display(Image(graph.get_graph().draw_mermaid_png()))"
   ]
  },
  {
   "cell_type": "code",
   "execution_count": 11,
   "metadata": {},
   "outputs": [],
   "source": [
    "state = graph.invoke({\"topic\": \"germans\"})"
   ]
  },
  {
   "cell_type": "code",
   "execution_count": 12,
   "metadata": {},
   "outputs": [
    {
     "name": "stdout",
     "output_type": "stream",
     "text": [
      "Here's a light joke about Germans:\n",
      "\n",
      "Why don't Germans tell dad jokes?\n",
      "\n",
      "Because they're not very punktual! \n",
      "\n",
      "(A play on \"punctual,\" since Germans are often stereotyped as being very precise about time, and \"pun\")\n",
      "Here's a wordplayed version:\n",
      "\n",
      "Why don't Germans tell dad jokes?\n",
      "\n",
      "Because they're not very PUNKTUAL... they always need TIME to think of them, and even then they're not very GERMANE!\n",
      "\n",
      "(Playing with \"punctual,\" \"pun,\" \"German/Germane,\" and keeping the time reference while adding multiple layers of wordplay)\n",
      "\n",
      "Alternative punchline:\n",
      "Because their jokes are the WURST... they need to BERLIN new material!\n",
      "\n",
      "(Adding \"worst/wurst\" and \"bring in/Berlin\" wordplay)\n",
      "Here's a twist on that joke:\n",
      "\n",
      "Why don't Germans tell dad jokes?\n",
      "\n",
      "Because they're not very PUNKTUAL... they always need TIME to think of them, and even then they're not very GERMANE!\n",
      "\n",
      "But the real reason? Because their CHANCELLOR told one in 1989 and the Berlin Wall came down from all the groaning!\n",
      "\n",
      "(This adds an unexpected historical twist while maintaining the wordplay theme, and creates a surprise ending that plays with the idea of dad jokes being so bad they can literally bring down walls. It also adds a layer of absurdist historical humor to the existing wordplay.)\n",
      "\n",
      "Alternative twisted version:\n",
      "Because their jokes are the WURST... they need to BERLIN new material!\n",
      "\n",
      "And the last time they tried to FRANKFURTER a punchline, they accidentally started the BRATWURST War in history!\n",
      "\n",
      "(This version adds a surreal historical twist while building on the food puns and creating an absurd alternate history scenario.)\n"
     ]
    }
   ],
   "source": [
    "print(state['joke'])\n",
    "if \"improved_joke\" in state:\n",
    "    print(state['improved_joke'])\n",
    "    print(state['polished_joke'])"
   ]
  },
  {
   "cell_type": "markdown",
   "metadata": {},
   "source": [
    "## Parallelization  \n",
    "\n",
    "Can be useful for multiple perspectives on single task.  \n",
    "Or if you want to fan out a question into sub-questions"
   ]
  },
  {
   "cell_type": "code",
   "execution_count": 15,
   "metadata": {},
   "outputs": [],
   "source": [
    "#Graph State\n",
    "class State(TypedDict):\n",
    "    topic: str\n",
    "    joke: str\n",
    "    story: str\n",
    "    poem: str\n",
    "    combined_output: str"
   ]
  },
  {
   "cell_type": "code",
   "execution_count": 16,
   "metadata": {},
   "outputs": [],
   "source": [
    "# Nodes\n",
    "def generate_joke(state: State):\n",
    "\n",
    "    response = llm.invoke(f\"Write a joke about {state['topic']}\")\n",
    "    return {\"joke\": response.content}\n",
    "\n",
    "def generate_story(state: State):\n",
    "\n",
    "    response = llm.invoke(f\"Write a story about {state['topic']}\")\n",
    "    return {\"story\": response.content}\n",
    "\n",
    "def generate_poem(state: State):\n",
    "\n",
    "    response = llm.invoke(f\"Write a poem about {state['topic']}\")\n",
    "    return {\"poem\": response.content}\n",
    "\n",
    "def aggregator(state: State):\n",
    "\n",
    "    combined = f\"A story, a joke and a poem about {state['topic']} \\n\"\n",
    "    combined += f\"joke: \\n {state['joke']}\\n\"\n",
    "    combined += f\"Story: \\n {state['story']}\\n\"\n",
    "    combined += f\"poem: \\n {state['poem']}\\n\"\n",
    "    return {\"combined_output\": combined}"
   ]
  },
  {
   "cell_type": "code",
   "execution_count": 18,
   "metadata": {},
   "outputs": [
    {
     "data": {
      "image/jpeg": "[encoded data removed]",
      "text/plain": [
       "<IPython.core.display.Image object>"
      ]
     },
     "metadata": {},
     "output_type": "display_data"
    }
   ],
   "source": [
    "# build workflow\n",
    "parallel_builder = StateGraph(State)\n",
    "\n",
    "# set up nodes\n",
    "parallel_builder.add_node(\"generate_joke\", generate_joke)\n",
    "parallel_builder.add_node(\"generate_story\", generate_story)\n",
    "parallel_builder.add_node(\"generate_poem\", generate_poem)\n",
    "parallel_builder.add_node(\"aggregator\", aggregator)\n",
    "\n",
    "# connect nodes\n",
    "parallel_builder.add_edge(START, \"generate_joke\")\n",
    "parallel_builder.add_edge(START, \"generate_story\")\n",
    "parallel_builder.add_edge(START, \"generate_poem\")\n",
    "parallel_builder.add_edge(\"generate_joke\", \"aggregator\")\n",
    "parallel_builder.add_edge(\"generate_story\", \"aggregator\")\n",
    "parallel_builder.add_edge(\"generate_poem\", \"aggregator\")\n",
    "parallel_builder.add_edge(\"aggregator\", END)\n",
    "\n",
    "\n",
    "parallel_graph = parallel_builder.compile()\n",
    "\n",
    "display(Image(parallel_graph.get_graph().draw_mermaid_png()))"
   ]
  },
  {
   "cell_type": "code",
   "execution_count": null,
   "metadata": {},
   "outputs": [],
   "source": [
    "state = parallel_graph.invoke({\"topic\": \"germans\"})"
   ]
  },
  {
   "cell_type": "code",
   "execution_count": 20,
   "metadata": {},
   "outputs": [
    {
     "name": "stdout",
     "output_type": "stream",
     "text": [
      "A story, a joke and a poem about germans \n",
      "joke: \n",
      " Here's a light-hearted joke about Germans:\n",
      "\n",
      "How many Germans does it take to change a light bulb?\n",
      "\n",
      "One. They're efficient and this is no laughing matter.\n",
      "Story: \n",
      " Here's a story about Germans:\n",
      "\n",
      "The Baumann Family Legacy\n",
      "\n",
      "In the small town of Heidelberg, nestled among rolling hills and ancient woodlands, the Baumann family had operated their bakery for over five generations. Every morning at 3 AM, Klaus Baumann would wake up, just as his father and grandfather had done before him, to begin preparing the day's bread and pastries.\n",
      "\n",
      "The scent of fresh Brötchen and Schwarzbrot would waft through the narrow cobblestone streets, drawing early risers to the warm, cozy shop. Klaus took immense pride in maintaining the exacting standards that had made Baumann's Bäckerei a local institution since 1892.\n",
      "\n",
      "His daughter, Petra, had grown up watching him work, learning the precise measurements and techniques that made their sourdough unique. Though she had initially pursued a career in engineering - a field where German precision and attention to detail served her well - she found herself drawn back to the family tradition.\n",
      "\n",
      "One autumn morning, as father and daughter worked side by side, Klaus shared stories of how their great-grandfather had kept the bakery running through two world wars, sharing what little they had with neighbors during the hardest times. The family's commitment to their community had never wavered.\n",
      "\n",
      "\"We don't just bake bread,\" Klaus would often say, \"we preserve our heritage.\" He explained how each recipe told a story: the Christmas Stollen from Dresden, the Black Forest cake from the south, and their signature rye bread, perfected through decades of dedication.\n",
      "\n",
      "When Petra finally took over the bakery, she found ways to honor tradition while embracing innovation. She introduced new organic ingredients and even opened a small café section, but the core recipes remained unchanged. The old wooden tables where locals gathered each morning to enjoy their breakfast and exchange news became a bridge between past and present.\n",
      "\n",
      "Under Petra's guidance, the bakery flourished, becoming not just a business but a symbol of German craftsmanship and community spirit. Young apprentices came to learn the trade, ensuring that the knowledge passed down through generations would continue to live on.\n",
      "\n",
      "The Baumanns' story reflected many quintessential German values: precision, dedication to craft, respect for tradition, and the importance of community. Their bakery remained a testament to how these values could adapt and thrive in modern times while maintaining their essential character.\n",
      "\n",
      "As another dawn broke over Heidelberg, Petra stood in the doorway of her bakery, watching the first customers arrive. The same bells that had announced the shop's opening for over a century chimed overhead, and she smiled, knowing that some traditions were worth preserving.\n",
      "poem: \n",
      " Here's a poem about Germans:\n",
      "\n",
      "The People of Germany\n",
      "\n",
      "From Bavaria to Berlin they dwell,\n",
      "With stories and traditions to tell,\n",
      "Efficient, precise, and engineers at heart,\n",
      "Making machines that set them apart.\n",
      "\n",
      "Beer steins raised at Oktoberfest,\n",
      "Lederhosen-clad among the best,\n",
      "Pretzels, schnitzel, and sauerkraut too,\n",
      "Black Forest cakes of the deepest hue.\n",
      "\n",
      "Philosophers, thinkers, poets of old,\n",
      "Musicians whose works are worth more than gold,\n",
      "From Bach to Beethoven, their music rings,\n",
      "Through concert halls where culture springs.\n",
      "\n",
      "Hard-working people with determined minds,\n",
      "Creating quality of various kinds,\n",
      "From automobiles to technology,\n",
      "Built with famous German efficiency.\n",
      "\n",
      "Rich in history, both dark and bright,\n",
      "They've learned from past and moved toward light,\n",
      "United now, both East and West,\n",
      "Building future dreams with zealous zest.\n",
      "\n",
      "Through Alps and forests, rivers flow,\n",
      "Past castles where ancient stories grow,\n",
      "A people proud, yet humble too,\n",
      "To their heritage forever true.\n",
      "\n"
     ]
    }
   ],
   "source": [
    "print(state['combined_output'])"
   ]
  },
  {
   "cell_type": "markdown",
   "metadata": {},
   "source": [
    "## Routing  \n",
    "\n",
    "Can be useful for routing a question to different retrivers"
   ]
  },
  {
   "cell_type": "code",
   "execution_count": 29,
   "metadata": {},
   "outputs": [],
   "source": [
    "from typing_extensions import Literal\n",
    "\n",
    "# Schema for structured output for routing logic\n",
    "# this should also be used in the chekc punchline function above\n",
    "class Route(BaseModel):\n",
    "    format_choice: Literal[\"poem\", \"story\", \"joke\"] = Field(\n",
    "        None, description=\"The choice for the routing process\"\n",
    "    )\n",
    "\n",
    "# Augment the LLM with the schema for structured output\n",
    "llm_router = llm.with_structured_output(Route)"
   ]
  },
  {
   "cell_type": "code",
   "execution_count": 34,
   "metadata": {},
   "outputs": [],
   "source": [
    "class State(TypedDict):\n",
    "    input: str # from the user\n",
    "    decision: str # from the llm_router\n",
    "    output: str # from the LLM"
   ]
  },
  {
   "cell_type": "code",
   "execution_count": 37,
   "metadata": {},
   "outputs": [],
   "source": [
    "from langchain_core.messages import HumanMessage, SystemMessage\n",
    "# Nodes\n",
    "def generate_joke(state: State):\n",
    "\n",
    "    response = llm.invoke(f\"Write a joke about {state['input']}\")\n",
    "    return {\"output\": response.content}\n",
    "\n",
    "def generate_story(state: State):\n",
    "\n",
    "    response = llm.invoke(f\"Write a story about {state['input']}\")\n",
    "    return {\"output\": response.content}\n",
    "\n",
    "def generate_poem(state: State):\n",
    "\n",
    "    response = llm.invoke(f\"Write a poem about {state['input']}\")\n",
    "    return {\"output\": response.content}\n",
    "\n",
    "def llm_call_router(state: State):\n",
    "\n",
    "    decision = llm_router.invoke(\n",
    "        [\n",
    "            SystemMessage(\n",
    "                content=\"Route the input to story, joke or poem based on the user's request.\"\n",
    "            ),\n",
    "            HumanMessage(content=state['input'])\n",
    "        ]\n",
    "    )\n",
    "\n",
    "    return {\"decision\": decision.format_choice}\n",
    "\n",
    "# conditional edge to route based on decision\n",
    "def route_decision(state: State):\n",
    "    # return the name of the node to go to\n",
    "    if state[\"decision\"] == \"story\":\n",
    "        return \"generate_story\"\n",
    "    elif state[\"decision\"] == \"joke\":\n",
    "        return \"generate_joke\"\n",
    "    elif state[\"decision\"] == \"poem\":\n",
    "        return \"generate_poem\"\n",
    "    else:\n",
    "        print(\"There was a problem with routing\")"
   ]
  },
  {
   "cell_type": "code",
   "execution_count": 38,
   "metadata": {},
   "outputs": [
    {
     "data": {
      "image/jpeg": "[encoded data removed]",
      "text/plain": [
       "<IPython.core.display.Image object>"
      ]
     },
     "metadata": {},
     "output_type": "display_data"
    },
    {
     "name": "stdout",
     "output_type": "stream",
     "text": [
      "Here's a cat joke:\n",
      "\n",
      "What do you call a cat that likes to go bowling?\n",
      "An alley cat!\n",
      "\n",
      "Or here's another one:\n",
      "\n",
      "Why don't cats like online shopping?\n",
      "They prefer a cat-alog!\n"
     ]
    }
   ],
   "source": [
    "# Build workflow\n",
    "router_builder = StateGraph(State)\n",
    "\n",
    "# Add nodes\n",
    "router_builder.add_node(\"generate_joke\", generate_joke)\n",
    "router_builder.add_node(\"generate_story\", generate_story)\n",
    "router_builder.add_node(\"generate_poem\", generate_poem)\n",
    "router_builder.add_node(\"llm_call_router\", llm_call_router)\n",
    "\n",
    "# Add edges to connect nodes\n",
    "router_builder.add_edge(START, \"llm_call_router\")\n",
    "router_builder.add_conditional_edges(\n",
    "    \"llm_call_router\",\n",
    "    route_decision,\n",
    "    {  # Name returned by route_decision : Name of next node to visit\n",
    "        \"generate_joke\": \"generate_joke\",\n",
    "        \"generate_story\": \"generate_story\",\n",
    "        \"generate_poem\": \"generate_poem\",\n",
    "    },\n",
    ")\n",
    "router_builder.add_edge(\"generate_joke\", END)\n",
    "router_builder.add_edge(\"generate_story\", END)\n",
    "router_builder.add_edge(\"generate_poem\", END)\n",
    "\n",
    "# Compile workflow\n",
    "router_workflow = router_builder.compile()\n",
    "\n",
    "# Show the workflow\n",
    "display(Image(router_workflow.get_graph().draw_mermaid_png()))\n",
    "\n",
    "# Invoke\n",
    "state = router_workflow.invoke({\"input\": \"Write me a joke about cats\"})\n",
    "print(state[\"output\"])"
   ]
  }
 ],
 "metadata": {
  "kernelspec": {
   "display_name": "langdings",
   "language": "python",
   "name": "python3"
  },
  "language_info": {
   "codemirror_mode": {
    "name": "ipython",
    "version": 3
   },
   "file_extension": ".py",
   "mimetype": "text/x-python",
   "name": "python",
   "nbconvert_exporter": "python",
   "pygments_lexer": "ipython3",
   "version": "3.11.11"
  }
 },
 "nbformat": 4,
 "nbformat_minor": 2
}
