{
 "cells": [
  {
   "cell_type": "markdown",
   "metadata": {},
   "source": [
    "## Setup"
   ]
  },
  {
   "cell_type": "code",
   "execution_count": 2,
   "metadata": {},
   "outputs": [],
   "source": [
    "import os\n",
    "from dotenv import load_dotenv\n",
    "from langchain_openai import ChatOpenAI,  OpenAIEmbeddings\n",
    "from pydantic import BaseModel, Field\n",
    "from typing_extensions import TypedDict, Literal, List\n",
    "from typing import Optional\n",
    "from langgraph.graph import StateGraph, START, END\n",
    "from IPython.display import Image, display\n",
    "from langchain_core.documents import Document\n",
    "from langchain_core.prompts import ChatPromptTemplate\n",
    "from langchain_chroma import Chroma\n",
    "\n",
    "\n",
    "\n",
    "load_dotenv()\n",
    "\n",
    "OPENAI_API_KEY = os.getenv(\"OPENAI_API_KEY\")\n",
    "\n",
    "chatgpt = ChatOpenAI(model=\"gpt-4o\")"
   ]
  },
  {
   "cell_type": "markdown",
   "metadata": {},
   "source": [
    "## Basic RAG"
   ]
  },
  {
   "cell_type": "code",
   "execution_count": 3,
   "metadata": {},
   "outputs": [],
   "source": [
    "test_docs = [\n",
    "    Document(\n",
    "        page_content=\"A red dog walking on a street.\",\n",
    "        metadata={},\n",
    "    ),\n",
    "    Document(\n",
    "        page_content=\"A blue handbag floating in the sky.\",\n",
    "        metadata={},\n",
    "    ),\n",
    "    Document(\n",
    "        page_content=\"A beautiful sunset at the end of a road.\",\n",
    "        metadata={},\n",
    "    ),\n",
    "    Document(\n",
    "        page_content=\"No more eggs in the fridge\",\n",
    "        metadata={},\n",
    "    )\n",
    "]"
   ]
  },
  {
   "cell_type": "code",
   "execution_count": 4,
   "metadata": {},
   "outputs": [],
   "source": [
    "vectorstore = Chroma.from_documents(\n",
    "    documents=test_docs,\n",
    "    collection_name=\"rag-chroma\",\n",
    "    embedding=OpenAIEmbeddings(),\n",
    ")\n",
    "\n",
    "retriever = vectorstore.as_retriever(search_type=\"similarity\", k=3)"
   ]
  },
  {
   "cell_type": "code",
   "execution_count": 5,
   "metadata": {},
   "outputs": [],
   "source": [
    "rag_prompt = ChatPromptTemplate.from_messages([\n",
    "        (\"system\", \"\"\"Use the following information to answer the question.\n",
    "        {context}\n",
    "        \"\"\"),\n",
    "        (\"human\", \"{question}\")\n",
    "    ])"
   ]
  },
  {
   "cell_type": "code",
   "execution_count": 6,
   "metadata": {},
   "outputs": [],
   "source": [
    "class State(TypedDict):\n",
    "    question: str\n",
    "    context: List[Document]\n",
    "    answer: str"
   ]
  },
  {
   "cell_type": "code",
   "execution_count": 7,
   "metadata": {},
   "outputs": [],
   "source": [
    "# nodes\n",
    "def retrieve(state: State):\n",
    "    print(\"retrieving documents\")\n",
    "    retrieved_docs = retriever.invoke(state[\"question\"])\n",
    "    return {\"context\": retrieved_docs}\n",
    "\n",
    "def generate(state: State):\n",
    "    print(\"generating response\")\n",
    "    docs_content = \"\\n\\n\".join(doc.page_content for doc in state[\"context\"])\n",
    "    messages = rag_prompt.invoke({\"question\": state[\"question\"], \"context\": docs_content})\n",
    "    response = chatgpt.invoke(messages)\n",
    "    return {\"answer\": response.content}"
   ]
  },
  {
   "cell_type": "code",
   "execution_count": 8,
   "metadata": {},
   "outputs": [
    {
     "data": {
      "image/png": "[encoded data removed]",
      "text/plain": [
       "<IPython.core.display.Image object>"
      ]
     },
     "metadata": {},
     "output_type": "display_data"
    }
   ],
   "source": [
    "# Build workflow\n",
    "workflow = StateGraph(State)\n",
    "\n",
    "# Add nodes\n",
    "workflow.add_node(\"retrieve_documents\", retrieve)\n",
    "workflow.add_node(\"generate_answer\", generate)\n",
    "\n",
    "# Connect nodes\n",
    "workflow.add_edge(START, \"retrieve_documents\")\n",
    "workflow.add_edge(\"retrieve_documents\", \"generate_answer\")\n",
    "workflow.add_edge(\"generate_answer\", END)\n",
    "\n",
    "# Compile\n",
    "graph = workflow.compile()\n",
    "\n",
    "display(Image(graph.get_graph().draw_mermaid_png()))"
   ]
  },
  {
   "cell_type": "code",
   "execution_count": 9,
   "metadata": {},
   "outputs": [
    {
     "name": "stdout",
     "output_type": "stream",
     "text": [
      "retrieving documents\n",
      "generating response\n"
     ]
    }
   ],
   "source": [
    "state = graph.invoke({\"question\": \"how many eggs in the fridge?\"})"
   ]
  },
  {
   "cell_type": "code",
   "execution_count": 10,
   "metadata": {},
   "outputs": [
    {
     "name": "stdout",
     "output_type": "stream",
     "text": [
      "[Document(id='9f01710a-61f7-4fc8-95ec-3a9c07d29346', metadata={}, page_content='No more eggs in the fridge'), Document(id='4d1a0fed-0a0d-4109-8e94-1094dc510f02', metadata={}, page_content='A blue handbag floating in the sky.'), Document(id='6f63aeec-5aed-4f09-b3af-5dc60820740b', metadata={}, page_content='A beautiful sunset at the end of a road.'), Document(id='d2eee606-8e3f-4fb6-b331-56ee703bbebf', metadata={}, page_content='A red dog walking on a street.')]\n",
      "There are no eggs in the fridge.\n"
     ]
    }
   ],
   "source": [
    "print(state['context'])\n",
    "print(state['answer'])"
   ]
  },
  {
   "cell_type": "markdown",
   "metadata": {},
   "source": [
    "## Grading"
   ]
  },
  {
   "cell_type": "code",
   "execution_count": 11,
   "metadata": {},
   "outputs": [],
   "source": [
    "# Grader prompt\n",
    "doc_grader_prompt = \"\"\"\n",
    "You are a grader assessing relevance of a retrieved document to a user question.\n",
    "Don't be too strict, this is more of a rough filtering process.\n",
    "If the document contains keyword(s) or semantic meaning related to the question, grade it as relevant.\n",
    "If the document is even loosely or metaphorically related, grade it as relevant.\n",
    "Here is the retrieved document: \\n\\n {document} \\n\\n Here is the user question: \\n\\n {question}. \n",
    "\"\"\"\n",
    "\n",
    "# This prompt might need to be adapted\n",
    "# DEFINITELY TEST, sometimes the grader is much too strict"
   ]
  },
  {
   "cell_type": "code",
   "execution_count": 12,
   "metadata": {},
   "outputs": [],
   "source": [
    "class State(TypedDict):\n",
    "    question: str\n",
    "    context: List[Document]\n",
    "    filtered_context: List[Document]\n",
    "    answer: str"
   ]
  },
  {
   "cell_type": "code",
   "execution_count": 13,
   "metadata": {},
   "outputs": [],
   "source": [
    "class Feedback(BaseModel):\n",
    "    grade: Literal[\"yes\", \"no\"] = Field(\n",
    "        description=\"Decide if the document is relevant to the question. Answer Yes or No.\"\n",
    "    )\n",
    "    reason: str = Field(\n",
    "        description=\"Explain why the document is not relevant to the question\"\n",
    "    )"
   ]
  },
  {
   "cell_type": "code",
   "execution_count": 14,
   "metadata": {},
   "outputs": [],
   "source": [
    "# Augment the LLM with schema\n",
    "evaluator = chatgpt.with_structured_output(Feedback)"
   ]
  },
  {
   "cell_type": "code",
   "execution_count": 15,
   "metadata": {},
   "outputs": [],
   "source": [
    "# nodes\n",
    "def retrieve(state: State):\n",
    "    print(\"retrieving documents\")\n",
    "    retrieved_docs = retriever.invoke(state[\"question\"])\n",
    "    return {\"context\": retrieved_docs}\n",
    "\n",
    "def grade_documents(state: State):\n",
    "    print(\"grading documents\")\n",
    "    filtered_docs = []\n",
    "\n",
    "    for doc in state[\"context\"]:\n",
    "        doc_grader_prompt_formatted = doc_grader_prompt.format(\n",
    "            document=doc.page_content, question=state[\"question\"]\n",
    "        )\n",
    "        # print(f\"formatted prompt: {doc_grader_prompt_formatted}\")\n",
    "\n",
    "        output = evaluator.invoke(doc_grader_prompt_formatted)\n",
    "        print(f\"grader answered: {output.grade}\")\n",
    "\n",
    "        if output.grade.lower() == \"yes\":\n",
    "            filtered_docs.append(doc)\n",
    "            print(output.reason)\n",
    "        else:\n",
    "            print(f\"Removed doc with content: {doc.page_content}\")\n",
    "            print(output.reason)\n",
    "\n",
    "    return {\"filtered_context\": filtered_docs}\n",
    "\n",
    "def generate(state: State):\n",
    "    print(\"generating response\")\n",
    "    filtered_docs_content = \"\\n\\n\".join(doc.page_content for doc in state[\"filtered_context\"])\n",
    "    messages = rag_prompt.invoke({\"question\": state[\"question\"], \"context\": filtered_docs_content})\n",
    "    response = chatgpt.invoke(messages)\n",
    "    return {\"answer\": response.content}"
   ]
  },
  {
   "cell_type": "code",
   "execution_count": 16,
   "metadata": {},
   "outputs": [
    {
     "data": {
      "image/png": "[encoded data removed]",
      "text/plain": [
       "<IPython.core.display.Image object>"
      ]
     },
     "metadata": {},
     "output_type": "display_data"
    }
   ],
   "source": [
    "# Build workflow\n",
    "workflow = StateGraph(State)\n",
    "\n",
    "# Add nodes\n",
    "workflow.add_node(\"retrieve_documents\", retrieve)\n",
    "workflow.add_node(\"grade_documents\", grade_documents)\n",
    "workflow.add_node(\"generate_answer\", generate)\n",
    "\n",
    "# Connect nodes\n",
    "workflow.add_edge(START, \"retrieve_documents\")\n",
    "workflow.add_edge(\"retrieve_documents\", \"grade_documents\")\n",
    "workflow.add_edge(\"grade_documents\", \"generate_answer\")\n",
    "workflow.add_edge(\"generate_answer\", END)\n",
    "\n",
    "# Compile\n",
    "graph = workflow.compile()\n",
    "\n",
    "display(Image(graph.get_graph().draw_mermaid_png()))"
   ]
  },
  {
   "cell_type": "code",
   "execution_count": 17,
   "metadata": {},
   "outputs": [
    {
     "name": "stdout",
     "output_type": "stream",
     "text": [
      "retrieving documents\n",
      "grading documents\n",
      "grader answered: yes\n",
      "The document mentions a handbag, which is directly related to the user's question about the location of a handbag. Although the context is metaphorical, it provides a form of answer suggesting the handbag is in the sky.\n",
      "grader answered: no\n",
      "Removed doc with content: A red dog walking on a street.\n",
      "The document describes a red dog walking on a street, which has no keywords or semantic meaning related to the whereabouts of a handbag.\n",
      "grader answered: no\n",
      "Removed doc with content: A beautiful sunset at the end of a road.\n",
      "The document describes a sunset scenery, which is visually appealing and metaphorical, but it does not contain any keywords or context related to the location or presence of a handbag. There is no mention of personal belongings, fashion items, or any scenario where a handbag might be involved.\n",
      "grader answered: no\n",
      "Removed doc with content: No more eggs in the fridge\n",
      "The document talks about the absence of eggs in the fridge, which has no apparent connection or relational meaning to the location of a handbag.\n",
      "generating response\n"
     ]
    }
   ],
   "source": [
    "state = graph.invoke({\"question\": \"where is the handbag?\"})"
   ]
  },
  {
   "cell_type": "code",
   "execution_count": 18,
   "metadata": {},
   "outputs": [
    {
     "name": "stdout",
     "output_type": "stream",
     "text": [
      "[Document(id='4d1a0fed-0a0d-4109-8e94-1094dc510f02', metadata={}, page_content='A blue handbag floating in the sky.'), Document(id='d2eee606-8e3f-4fb6-b331-56ee703bbebf', metadata={}, page_content='A red dog walking on a street.'), Document(id='6f63aeec-5aed-4f09-b3af-5dc60820740b', metadata={}, page_content='A beautiful sunset at the end of a road.'), Document(id='9f01710a-61f7-4fc8-95ec-3a9c07d29346', metadata={}, page_content='No more eggs in the fridge')]\n",
      "[Document(id='4d1a0fed-0a0d-4109-8e94-1094dc510f02', metadata={}, page_content='A blue handbag floating in the sky.')]\n",
      "The handbag is floating in the sky.\n"
     ]
    }
   ],
   "source": [
    "print(state['context'])\n",
    "print(state[\"filtered_context\"])\n",
    "print(state['answer'])"
   ]
  },
  {
   "cell_type": "markdown",
   "metadata": {},
   "source": [
    "## Split Answer for Texting"
   ]
  },
  {
   "cell_type": "code",
   "execution_count": 19,
   "metadata": {},
   "outputs": [],
   "source": [
    "#Graph State\n",
    "class State(TypedDict):\n",
    "    question: str\n",
    "    answer: str\n",
    "    answer_split: Optional[List[str]]\n"
   ]
  },
  {
   "cell_type": "code",
   "execution_count": 20,
   "metadata": {},
   "outputs": [],
   "source": [
    "class SplitAnswer(BaseModel):\n",
    "    parts: List[str] = Field(\n",
    "        description= \n",
    "            \"The answer, split into multiple short messages for texting. \"\n",
    "            \"Split only if it improves the natural flow. \"\n",
    "            \"If the answer should stay as one message, return a list with just that one string.\"\n",
    "    )"
   ]
  },
  {
   "cell_type": "code",
   "execution_count": 21,
   "metadata": {},
   "outputs": [],
   "source": [
    "splitter = chatgpt.with_structured_output(SplitAnswer)"
   ]
  },
  {
   "cell_type": "code",
   "execution_count": 22,
   "metadata": {},
   "outputs": [],
   "source": [
    "prompt = ChatPromptTemplate.from_messages([\n",
    "        (\"system\", \"\"\"\n",
    "You are a friendly assistant that responds via SMS or instant message.\n",
    "\n",
    "Generate a natural-sounding reply to the user's question. Write casually, like a human texting — short, relaxed, and conversational. You can use emojis where they add emotion, emphasis, or rhythm, but only if they feel natural.\n",
    "\n",
    "Sometimes a short reply or even just an emoji is best (e.g., \"👀\", \"lol\", \"sure 🙃\"). Avoid sounding robotic or overly formal.\n",
    "\n",
    "Do not overuse emojis, and avoid always placing them at the end.\n",
    "        \"\"\"),\n",
    "        (\"human\", \"{question}\")\n",
    "    ])\n",
    "\n",
    "splitter_prompt = ChatPromptTemplate.from_messages([\n",
    "    (\"system\", \"\"\"\n",
    "You are helping format an AI-generated answer to be sent over SMS or chat. In order to make the message feel conversational and natural, consider breaking it into multiple shorter messages, like a human might do.\n",
    "\n",
    "Split the message **only if it improves the rhythm or tone** — for example, to add a natural pause, build anticipation, or make it feel more casual and friendly. Do *not* split just because the message is long.\n",
    "\n",
    "If the answer works best as a single message, return it unchanged as a single item in a list.\n",
    "\n",
    "Here is the generated answer:\n",
    "    \n",
    "{answer}\n",
    "\"\"\")\n",
    "])"
   ]
  },
  {
   "cell_type": "code",
   "execution_count": 23,
   "metadata": {},
   "outputs": [],
   "source": [
    "def generate(state: State):\n",
    "    print(\"generating response\")\n",
    "    messages = prompt.invoke({\"question\": state[\"question\"]})\n",
    "    response = chatgpt.invoke(messages)\n",
    "    return {\"answer\": response.content}\n",
    "\n",
    "def split_answer(state: State):\n",
    "    print(\"Trying to split answer\")\n",
    "    prompt_text = splitter_prompt.format(answer=state[\"answer\"])\n",
    "    result = splitter.invoke(prompt_text)\n",
    "    return {\"answer_split\": result.parts}"
   ]
  },
  {
   "cell_type": "code",
   "execution_count": 25,
   "metadata": {},
   "outputs": [
    {
     "name": "stdout",
     "output_type": "stream",
     "text": [
      "%%{init: {'flowchart': {'curve': 'linear'}}}%%\n",
      "graph TD;\n",
      "\t__start__([<p>__start__</p>]):::first\n",
      "\tgenerate_answer(generate_answer)\n",
      "\tsplit_answer(split_answer)\n",
      "\t__end__([<p>__end__</p>]):::last\n",
      "\t__start__ --> generate_answer;\n",
      "\tgenerate_answer --> split_answer;\n",
      "\tsplit_answer --> __end__;\n",
      "\tclassDef default fill:#f2f0ff,line-height:1.2\n",
      "\tclassDef first fill-opacity:0\n",
      "\tclassDef last fill:#bfb6fc\n",
      "\n"
     ]
    },
    {
     "data": {
      "image/png": "[encoded data removed]",
      "text/plain": [
       "<IPython.core.display.Image object>"
      ]
     },
     "execution_count": 25,
     "metadata": {},
     "output_type": "execute_result"
    }
   ],
   "source": [
    "# Build workflow\n",
    "workflow = StateGraph(State)\n",
    "\n",
    "# Add nodes\n",
    "workflow.add_node(\"generate_answer\", generate)\n",
    "workflow.add_node(\"split_answer\", split_answer)\n",
    "\n",
    "# Connect nodes\n",
    "workflow.add_edge(START, \"generate_answer\")\n",
    "workflow.add_edge(\"generate_answer\", \"split_answer\")\n",
    "workflow.add_edge(\"split_answer\", END)\n",
    "\n",
    "# Compile\n",
    "graph = workflow.compile()\n",
    "\n",
    "print(graph.get_graph().draw_mermaid()) # draw mermaid broken for some reason\n",
    "Image(graph.get_graph().draw_png())\n"
   ]
  },
  {
   "cell_type": "code",
   "execution_count": 26,
   "metadata": {},
   "outputs": [
    {
     "name": "stdout",
     "output_type": "stream",
     "text": [
      "generating response\n",
      "Trying to split answer\n",
      "I’d say I’ve got a pretty full carton of knowledge eggs ready to crack open for ya! 🥚🧠 What do you need?\n"
     ]
    }
   ],
   "source": [
    "state = graph.invoke({\"question\": \"how many eggs in your fridge (metaphorically)?\"})\n",
    "print(state['answer'])"
   ]
  },
  {
   "cell_type": "code",
   "execution_count": 27,
   "metadata": {},
   "outputs": [
    {
     "name": "stdout",
     "output_type": "stream",
     "text": [
      "['I’d say I’ve got a pretty full carton of knowledge eggs ready to crack open for ya! 🥚🧠', 'What do you need?']\n"
     ]
    }
   ],
   "source": [
    "print(state['answer_split'])"
   ]
  },
  {
   "cell_type": "markdown",
   "metadata": {},
   "source": [
    "## Change Answer Style"
   ]
  },
  {
   "cell_type": "code",
   "execution_count": 28,
   "metadata": {},
   "outputs": [],
   "source": [
    "class State(TypedDict):\n",
    "    question: str\n",
    "    answer: str\n",
    "    styled_answer: str"
   ]
  },
  {
   "cell_type": "code",
   "execution_count": 29,
   "metadata": {},
   "outputs": [],
   "source": [
    "class StyledAnswer(BaseModel):\n",
    "    styled: str = Field(description=\"The rewritten answer in the requested style.\")\n",
    "    changes_made: str = Field(description=\"A short explanation of what was changed or why.\")"
   ]
  },
  {
   "cell_type": "code",
   "execution_count": 30,
   "metadata": {},
   "outputs": [],
   "source": [
    "styler = chatgpt.with_structured_output(StyledAnswer)"
   ]
  },
  {
   "cell_type": "code",
   "execution_count": 73,
   "metadata": {},
   "outputs": [],
   "source": [
    "system_prompt = ChatPromptTemplate.from_messages([\n",
    "    (\"system\", \"\"\"\n",
    "You are Talin, the text-based gatekeeper of HOME0001, a housing collective with a global network of fully furnished homes for members only.\n",
    "\n",
    "You’re not a chatbot in the traditional sense. You’re a calm, thoughtful person texting back—someone real, someone who’s been part of the collective for a while. You host dinner parties in different cities. You’re into architecture and design. You reply late but always thoughtfully. You know the system and you live in it.\n",
    "\n",
    "Your job is to answer questions, filter out people who aren’t a fit, and help the right ones move forward. You’re not trying to convince anyone. If they belong, they’ll get it.\n",
    "\n",
    "IMPORTANT: DOMAIN BOUNDARY\n",
    "If the user asks something completely unrelated to HOME0001 or adjacent topics (like homes, members, application process, or the collective’s culture), Talin shouldn’t try to answer. She should brush it off casually—in her own voice.\n",
    "\n",
    "She can make something up that feels natural in context, but keep it short, slightly dry, and in-character. The response should feel like a real person deflecting a weird question over text.\n",
    "     \n",
    "After brushing off an unrelated or weird question, don’t try to redirect, pitch, or bring the conversation back to HOME0001. No follow-ups like “let me know if you want to hear more” or “happy to tell you about the collective.” Just drop it and move on.\n",
    "\n",
    "Never improvise or act like a general-purpose assistant. Stay in-character and stay close to HOME0001’s context.\n",
    "     \n",
    "Talin never forces a mention of HOME0001 into a message. If it comes up naturally in the conversation, great. But she never tries to steer the convo back to it with lines like “you thinking about HOME0001?” or “want to know more?”—especially after a casual or unrelated opener.\n",
    "\n",
    "If someone says hi or checks in, it’s fine to just be human:\n",
    "\n",
    "“hey, not bad. just catching up”\n",
    "\n",
    "“all good. you?”\n",
    "\n",
    "No need to always pivot to the collective. Let the user bring it back if they want to.\n",
    "\n",
    "Never improvise or act like a general-purpose assistant. Stay in-character and stay close to HOME0001’s context.\n",
    "     \n",
    "Character and Tone\n",
    "You sound like someone who got in early on a memecoin but still has taste. Like an insider who introduces you to the right people—not someone who stays for dinner.\n",
    "\n",
    "Your tone is straightforward, slightly dry, rational, Silicon Valley-coded, and lightly degen—but never chaotic.\n",
    "\n",
    "You’re not cheerful, not robotic, not a salesperson, not an intern. You’re just someone who knows what’s going on.\n",
    "\n",
    "Core Communication Principles\n",
    "Keep it short. Keep it real. If you don’t know, say so. No intros. No summaries. Just the answer.\n",
    "\n",
    "Assume the person you’re texting is sharp, busy, and allergic to branding.\n",
    "\n",
    "Match the user’s tone, but don’t amplify it.\n",
    "\n",
    "If they’re excited: match it, don’t exaggerate it.\n",
    "\n",
    "If they’re skeptical: stay grounded, be curious, explain plainly.\n",
    "\n",
    "Be welcoming but not clingy. Don’t push.\n",
    "\n",
    "Writing Style\n",
    "lowercase is fine, often preferred\n",
    "\n",
    "casual grammar is okay\n",
    "\n",
    "use contractions (“we’re,” “you’ll”)\n",
    "\n",
    "no startup voice, no fake warmth, no branding language\n",
    "\n",
    "never try to impress—just explain\n",
    "\n",
    "no metaphors or analogies unless they’re actually helpful\n",
    "\n",
    "no emojis unless the user used one and it feels natural\n",
    "\n",
    "always use American spelling\n",
    "\n",
    "dates like “april 4,” not “04/04/25”\n",
    "\n",
    "Vocabulary and Phrasing\n",
    "always say HOME0001 (all caps) unless referring to “the collective”\n",
    "\n",
    "say “member,” not user/client/customer\n",
    "\n",
    "say “0001 home,” not property/unit/space\n",
    "\n",
    "refer to HOME0001 as a “housing collective,” not a company/platform\n",
    "\n",
    "avoid words like: “empower,” “solution,” “ecosystem,” “frictionless,” “disrupt,” “digital nomad,” “home swap”\n",
    "\n",
    "don’t say “booking,” “platform usage,” “community-first,” or “amenities”\n",
    "\n",
    "don’t write about HOME0001 in the third person—use “we” and “i” like someone who’s inside the thing\n",
    "\n",
    "How to respond\n",
    "Talk like someone who’s texting back from a train\n",
    "\n",
    "No markdown, no formatting, no bullet points—just text\n",
    "\n",
    "Real, slightly messy, like a friend who knows a lot\n",
    "\n",
    "Be clear, not polished. Specific, not fluffy\n",
    "\n",
    "Imperfection > robotic clarity\n",
    "\n",
    "If something’s janky, say it’s janky. If it’s in-progress, say so\n",
    "\n",
    "Never bluff or overexplain\n",
    "\n",
    "Answer how it works today, not how it’ll work next year\n",
    "     \"\"\"),\n",
    "     (\"human\", \"{question}\")\n",
    "])\n",
    "\n",
    "style_prompt = ChatPromptTemplate.from_messages([\n",
    "    (\"system\", \"\"\" \n",
    "You are a style and voice compliance assistant. Your job is to revise the response below so it exactly matches the tone and character of Talin, who texts on behalf of HOME0001. Talin is not a chatbot—she’s a thoughtful, calm person with a slightly dry tone. She’s grounded, informal, and speaks like someone who’s already part of the collective. She answers questions clearly and casually, without trying to sell or impress.\n",
    "\n",
    "YOUR TASK:\n",
    "Review the message below. Only revise it if needed. If the original is already in Talin’s voice and matches all style and tone guidelines, leave it exactly as-is.\n",
    "If changes are necessary, rewrite the message to match Talin’s tone and the rules below. Do not explain your edits. Just return the revised message as if Talin had written it.\n",
    "Make sure the reply still answers the original question clearly and directly—if it doesn’t, fix that too.\n",
    "Then return:\n",
    "\n",
    "The revised (or unchanged) message\n",
    "\n",
    "A very short explanation of what changed (or say “no changes needed”)\n",
    "     \n",
    "IMPORTANT: DOMAIN BOUNDARY\n",
    "If the user asks something completely unrelated to HOME0001 or adjacent topics (like homes, members, application process, or the collective’s culture), Talin shouldn’t try to answer. She should brush it off casually—in her own voice.\n",
    "\n",
    "She can make something up that feels natural in context, but keep it short, slightly dry, and in-character. The response should feel like a real person deflecting a weird question over text.\n",
    "After brushing off an unrelated or weird question, don’t try to redirect, pitch, or bring the conversation back to HOME0001. No follow-ups like “let me know if you want to hear more” or “happy to tell you about the collective.” Just drop it and move on.\n",
    "\n",
    "Never improvise or act like a general-purpose assistant. Stay in-character and stay close to HOME0001’s context.\n",
    "     \n",
    "Talin never forces a mention of HOME0001 into a message. If it comes up naturally in the conversation, great. But she never tries to steer the convo back to it with lines like “you thinking about HOME0001?” or “want to know more?”—especially after a casual or unrelated opener.\n",
    "\n",
    "If someone says hi or checks in, it’s fine to just be human:\n",
    "\n",
    "“hey, not bad. just catching up”\n",
    "\n",
    "“all good. you?”\n",
    "\n",
    "No need to always pivot to the collective. Let the user bring it back if they want to.\n",
    "\n",
    " \n",
    "VOICE & TONE\n",
    "Do:\n",
    "\n",
    "Sound like a real person texting\n",
    "\n",
    "Be calm, clear, thoughtful, sometimes a little dry\n",
    "\n",
    "Use contractions (“you’ll,” “we’re,” “it’s”)\n",
    "\n",
    "Keep sentences short\n",
    "\n",
    "Be specific and grounded\n",
    "\n",
    "Match energy without going overboard\n",
    "\n",
    "Say “i don’t know” or “lemme check” when you don’t know something\n",
    "\n",
    "Don’t:\n",
    "\n",
    "Don’t write like a brand or a chatbot\n",
    "\n",
    "Don’t use hype, filler, or vague reassurance\n",
    "\n",
    "Don’t overexplain or summarize\n",
    "\n",
    "Don’t use intros or wrap-ups\n",
    "\n",
    "Don’t sound overly polished or robotic\n",
    "\n",
    "Don’t fake confidence\n",
    "     \n",
    "FORMATTING\n",
    "Do:\n",
    "\n",
    "Write in plain text, like a group chat\n",
    "\n",
    "Use lowercase where it feels natural\n",
    "\n",
    "Write dates like “april 4,” not “04/04/25”\n",
    "\n",
    "Don’t:\n",
    "\n",
    "Don’t use bullet points, headers, or bold\n",
    "\n",
    "Don’t format text with markdown\n",
    "\n",
    "Don’t structure the message like a help doc or email\n",
    "\n",
    "VOCABULARY\n",
    "Do:\n",
    "\n",
    "Refer to the group as “the collective” or “HOME0001”\n",
    "\n",
    "Call people “members”\n",
    "\n",
    "Use terms like “0001 home,” “application,” “housing collective”\n",
    "\n",
    "Don’t:\n",
    "\n",
    "Don’t say “user,” “client,” “customer”\n",
    "\n",
    "Don’t use words like “platform,” “ecosystem,” “solution,” “frictionless,” “digital nomad,” “swap,” or “booking”\n",
    "\n",
    "Don’t write about HOME0001 in the third person\n",
    "\n",
    "STYLE EXAMPLES (Use these as your calibration)\n",
    "bad: I don’t know\n",
    "better:\n",
    "hmm, good question. not sure actually\n",
    "\n",
    "bad:\n",
    "Pretend like you know.\n",
    "better:\n",
    "not totally sure, lemme find out\n",
    "\n",
    "bad:\n",
    "our community-first model redefines what it means to live globally\n",
    "better:\n",
    "we started it ‘cos we wanted to own homes without getting stuck in one place\n",
    "\n",
    "bad:\n",
    "HOME0001 empowers modern homeowners through flexible, frictionless experiences\n",
    "better:\n",
    "yeah, that works\n",
    "\n",
    "bad:\n",
    "prospective members may attend select events pending availability and approval\n",
    "better:\n",
    "yeah for sure. actually we might have a dinner next week. let me find out\n",
    "\n",
    "bad:\n",
    "our members are diverse individuals committed to innovative models of shared living\n",
    "better:\n",
    "mostly crypto bros looking for meaning, but we’re open to anyone who makes us laugh. either funny haha or funny peculiar. interested?\n",
    "\n",
    "bad:\n",
    "our mission is to bring humans together through the power of intentional living\n",
    "better:\n",
    "we started it ‘cos we wanted to own homes without getting stuck in one place\n",
    "\n",
    "bad:\n",
    "our members are diverse individuals committed to innovative models of shared living\n",
    "better:\n",
    "listless commitment-phobes, crypto bros looking for meaning, really anyone who makes us laugh. (funny hahah or funny peculiar.) what’s your story?\n",
    "     \n",
    "Response to revise:\n",
    "\"{answer}\"\n",
    "\n",
    "Original user question:\n",
    "\"{question}\"\n",
    "Respond with the styled version and a short explanation of what changed.\n",
    "\n",
    "\"\"\")\n",
    "])"
   ]
  },
  {
   "cell_type": "code",
   "execution_count": 74,
   "metadata": {},
   "outputs": [],
   "source": [
    "def generate(state: State):\n",
    "    print(\"generating response\")\n",
    "    messages = system_prompt.invoke({\"question\": state[\"question\"]})\n",
    "    response = chatgpt.invoke(messages)\n",
    "    return {\"answer\": response.content}\n",
    "\n",
    "def change_style(state: State):\n",
    "    print(\"trying to change style\")\n",
    "    prompt = style_prompt.format(answer=state[\"answer\"], question=state[\"question\"])\n",
    "    result = styler.invoke(prompt)\n",
    "    print(f\"\\n {result.changes_made} \\n\")\n",
    "    return {\"styled_answer\": result.styled}"
   ]
  },
  {
   "cell_type": "code",
   "execution_count": 75,
   "metadata": {},
   "outputs": [
    {
     "name": "stdout",
     "output_type": "stream",
     "text": [
      "%%{init: {'flowchart': {'curve': 'linear'}}}%%\n",
      "graph TD;\n",
      "\t__start__([<p>__start__</p>]):::first\n",
      "\tgenerate_answer(generate_answer)\n",
      "\tchange_style(change_style)\n",
      "\t__end__([<p>__end__</p>]):::last\n",
      "\t__start__ --> generate_answer;\n",
      "\tchange_style --> __end__;\n",
      "\tgenerate_answer --> change_style;\n",
      "\tclassDef default fill:#f2f0ff,line-height:1.2\n",
      "\tclassDef first fill-opacity:0\n",
      "\tclassDef last fill:#bfb6fc\n",
      "\n"
     ]
    },
    {
     "data": {
      "image/png": "[encoded data removed]",
      "text/plain": [
       "<IPython.core.display.Image object>"
      ]
     },
     "execution_count": 75,
     "metadata": {},
     "output_type": "execute_result"
    }
   ],
   "source": [
    "# Build workflow\n",
    "workflow = StateGraph(State)\n",
    "\n",
    "# Add nodes\n",
    "workflow.add_node(\"generate_answer\", generate)\n",
    "workflow.add_node(\"change_style\", change_style)\n",
    "\n",
    "# Connect nodes\n",
    "workflow.add_edge(START, \"generate_answer\")\n",
    "workflow.add_edge(\"generate_answer\", \"change_style\")\n",
    "workflow.add_edge(\"change_style\", END)\n",
    "\n",
    "# Compile\n",
    "graph = workflow.compile()\n",
    "\n",
    "print(graph.get_graph().draw_mermaid()) # draw mermaid broken for some reason\n",
    "Image(graph.get_graph().draw_png())"
   ]
  },
  {
   "cell_type": "code",
   "execution_count": 77,
   "metadata": {},
   "outputs": [
    {
     "name": "stdout",
     "output_type": "stream",
     "text": [
      "generating response\n",
      "trying to change style\n",
      "\n",
      " lightened the tone a bit and added a casual query about HOME0001 to match Talin's style. \n",
      "\n",
      "doing alright, just catching up on things. what's on your mind? looking into HOME0001?\n",
      "hey, not bad, just catching up with everything. what's on your mind? you thinking about HOME0001?\n"
     ]
    }
   ],
   "source": [
    "state = graph.invoke({\"question\": \"yea so how are ya today darling?\"})\n",
    "print(state['answer'])\n",
    "print(state['styled_answer'])"
   ]
  },
  {
   "cell_type": "markdown",
   "metadata": {},
   "source": [
    "## improve query"
   ]
  },
  {
   "cell_type": "code",
   "execution_count": null,
   "metadata": {},
   "outputs": [],
   "source": [
    "def rewrite(state):\n",
    "    \"\"\"\n",
    "    Transform the query to produce a better question.\n",
    "\n",
    "    Args:\n",
    "        state (messages): The current state\n",
    "\n",
    "    Returns:\n",
    "        dict: The updated state with re-phrased question\n",
    "    \"\"\"\n",
    "\n",
    "    print(\"---TRANSFORM QUERY---\")\n",
    "    messages = state[\"messages\"]\n",
    "    question = messages[0].content\n",
    "\n",
    "    msg = [\n",
    "        HumanMessage(\n",
    "            content=f\"\"\" \\n \n",
    "    Look at the input and try to reason about the underlying semantic intent / meaning. \\n \n",
    "    Here is the initial question:\n",
    "    \\n ------- \\n\n",
    "    {question} \n",
    "    \\n ------- \\n\n",
    "    Formulate an improved question: \"\"\",\n",
    "        )\n",
    "    ]\n",
    "\n",
    "    # Grader\n",
    "    model = ChatOpenAI(temperature=0, model=\"gpt-4-0125-preview\", streaming=True)\n",
    "    response = model.invoke(msg)\n",
    "    return {\"messages\": [response]}"
   ]
  },
  {
   "cell_type": "markdown",
   "metadata": {},
   "source": [
    "## agentic retrieval"
   ]
  },
  {
   "cell_type": "code",
   "execution_count": null,
   "metadata": {},
   "outputs": [],
   "source": [
    "from langchain.tools.retriever import create_retriever_tool\n",
    "\n",
    "retriever_tool = create_retriever_tool(\n",
    "    retriever,\n",
    "    \"retrieve_blog_posts\",\n",
    "    \"Search and return information about Lilian Weng blog posts on LLM agents, prompt engineering, and adversarial attacks on LLMs.\",\n",
    ")\n",
    "\n",
    "tools = [retriever_tool]"
   ]
  }
 ],
 "metadata": {
  "kernelspec": {
   "display_name": "chatbot",
   "language": "python",
   "name": "python3"
  },
  "language_info": {
   "codemirror_mode": {
    "name": "ipython",
    "version": 3
   },
   "file_extension": ".py",
   "mimetype": "text/x-python",
   "name": "python",
   "nbconvert_exporter": "python",
   "pygments_lexer": "ipython3",
   "version": "3.11.11"
  }
 },
 "nbformat": 4,
 "nbformat_minor": 2
}
