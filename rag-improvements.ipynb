{
 "cells": [
  {
   "cell_type": "markdown",
   "metadata": {},
   "source": [
    "## Setup"
   ]
  },
  {
   "cell_type": "code",
   "execution_count": 37,
   "metadata": {},
   "outputs": [],
   "source": [
    "import os\n",
    "from dotenv import load_dotenv\n",
    "from langchain_openai import ChatOpenAI,  OpenAIEmbeddings\n",
    "from pydantic import BaseModel, Field\n",
    "from typing_extensions import TypedDict, Literal, List\n",
    "from typing import Optional\n",
    "from langgraph.graph import StateGraph, START, END\n",
    "from IPython.display import Image, display\n",
    "from langchain_core.documents import Document\n",
    "from langchain_core.prompts import ChatPromptTemplate\n",
    "from langchain_chroma import Chroma\n",
    "\n",
    "\n",
    "\n",
    "load_dotenv()\n",
    "\n",
    "OPENAI_API_KEY = os.getenv(\"OPENAI_API_KEY\")\n",
    "\n",
    "chatgpt = ChatOpenAI(model=\"gpt-4o\")"
   ]
  },
  {
   "cell_type": "markdown",
   "metadata": {},
   "source": [
    "## Basic RAG"
   ]
  },
  {
   "cell_type": "code",
   "execution_count": 9,
   "metadata": {},
   "outputs": [],
   "source": [
    "test_docs = [\n",
    "    Document(\n",
    "        page_content=\"A red dog walking on a street.\",\n",
    "        metadata={},\n",
    "    ),\n",
    "    Document(\n",
    "        page_content=\"A blue handbag floating in the sky.\",\n",
    "        metadata={},\n",
    "    ),\n",
    "    Document(\n",
    "        page_content=\"A beautiful sunset at the end of a road.\",\n",
    "        metadata={},\n",
    "    ),\n",
    "    Document(\n",
    "        page_content=\"No more eggs in the fridge\",\n",
    "        metadata={},\n",
    "    )\n",
    "]"
   ]
  },
  {
   "cell_type": "code",
   "execution_count": 10,
   "metadata": {},
   "outputs": [],
   "source": [
    "vectorstore = Chroma.from_documents(\n",
    "    documents=test_docs,\n",
    "    collection_name=\"rag-chroma\",\n",
    "    embedding=OpenAIEmbeddings(),\n",
    ")\n",
    "\n",
    "retriever = vectorstore.as_retriever(search_type=\"similarity\", k=3)"
   ]
  },
  {
   "cell_type": "code",
   "execution_count": 11,
   "metadata": {},
   "outputs": [],
   "source": [
    "rag_prompt = ChatPromptTemplate.from_messages([\n",
    "        (\"system\", \"\"\"Use the following information to answer the question.\n",
    "        {context}\n",
    "        \"\"\"),\n",
    "        (\"human\", \"{question}\")\n",
    "    ])"
   ]
  },
  {
   "cell_type": "code",
   "execution_count": 12,
   "metadata": {},
   "outputs": [],
   "source": [
    "class State(TypedDict):\n",
    "    question: str\n",
    "    context: List[Document]\n",
    "    answer: str"
   ]
  },
  {
   "cell_type": "code",
   "execution_count": 13,
   "metadata": {},
   "outputs": [],
   "source": [
    "# nodes\n",
    "def retrieve(state: State):\n",
    "    print(\"retrieving documents\")\n",
    "    retrieved_docs = retriever.invoke(state[\"question\"])\n",
    "    return {\"context\": retrieved_docs}\n",
    "\n",
    "def generate(state: State):\n",
    "    print(\"generating response\")\n",
    "    docs_content = \"\\n\\n\".join(doc.page_content for doc in state[\"context\"])\n",
    "    messages = rag_prompt.invoke({\"question\": state[\"question\"], \"context\": docs_content})\n",
    "    response = chatgpt.invoke(messages)\n",
    "    return {\"answer\": response.content}"
   ]
  },
  {
   "cell_type": "code",
   "execution_count": 14,
   "metadata": {},
   "outputs": [
    {
     "data": {
      "image/jpeg": "[encoded data removed]",
      "text/plain": [
       "<IPython.core.display.Image object>"
      ]
     },
     "metadata": {},
     "output_type": "display_data"
    }
   ],
   "source": [
    "# Build workflow\n",
    "workflow = StateGraph(State)\n",
    "\n",
    "# Add nodes\n",
    "workflow.add_node(\"retrieve_documents\", retrieve)\n",
    "workflow.add_node(\"generate_answer\", generate)\n",
    "\n",
    "# Connect nodes\n",
    "workflow.add_edge(START, \"retrieve_documents\")\n",
    "workflow.add_edge(\"retrieve_documents\", \"generate_answer\")\n",
    "workflow.add_edge(\"generate_answer\", END)\n",
    "\n",
    "# Compile\n",
    "graph = workflow.compile()\n",
    "\n",
    "display(Image(graph.get_graph().draw_mermaid_png()))"
   ]
  },
  {
   "cell_type": "code",
   "execution_count": 15,
   "metadata": {},
   "outputs": [
    {
     "name": "stdout",
     "output_type": "stream",
     "text": [
      "retrieving documents\n",
      "generating response\n"
     ]
    }
   ],
   "source": [
    "state = graph.invoke({\"question\": \"how many eggs in the fridge?\"})"
   ]
  },
  {
   "cell_type": "code",
   "execution_count": 16,
   "metadata": {},
   "outputs": [
    {
     "name": "stdout",
     "output_type": "stream",
     "text": [
      "[Document(id='70b8ff6b-ec31-466b-8dc5-6ebc8db6aa28', page_content='No more eggs in the fridge'), Document(id='a5bba28e-f339-4c0d-8ee4-18c486949bde', page_content='A blue handbag floating in the sky.'), Document(id='1524e723-a90f-4cd2-aea1-3d77c86c186d', page_content='A beautiful sunset at the end of a road.'), Document(id='85e20aff-b39e-47e5-99d0-36d64457f370', page_content='A red dog walking on a street.')]\n",
      "There are no eggs in the fridge.\n"
     ]
    }
   ],
   "source": [
    "print(state['context'])\n",
    "print(state['answer'])"
   ]
  },
  {
   "cell_type": "markdown",
   "metadata": {},
   "source": [
    "## Grading"
   ]
  },
  {
   "cell_type": "code",
   "execution_count": 17,
   "metadata": {},
   "outputs": [],
   "source": [
    "# Grader prompt\n",
    "doc_grader_prompt = \"\"\"\n",
    "You are a grader assessing relevance of a retrieved document to a user question.\n",
    "Don't be too strict, this is more of a rough filtering process.\n",
    "If the document contains keyword(s) or semantic meaning related to the question, grade it as relevant.\n",
    "If the document is even loosely or metaphorically related, grade it as relevant.\n",
    "Here is the retrieved document: \\n\\n {document} \\n\\n Here is the user question: \\n\\n {question}. \n",
    "\"\"\"\n",
    "\n",
    "# This prompt might need to be adapted\n",
    "# DEFINITELY TEST, sometimes the grader is much too strict"
   ]
  },
  {
   "cell_type": "code",
   "execution_count": 18,
   "metadata": {},
   "outputs": [],
   "source": [
    "class State(TypedDict):\n",
    "    question: str\n",
    "    context: List[Document]\n",
    "    filtered_context: List[Document]\n",
    "    answer: str"
   ]
  },
  {
   "cell_type": "code",
   "execution_count": 19,
   "metadata": {},
   "outputs": [],
   "source": [
    "class Feedback(BaseModel):\n",
    "    grade: Literal[\"yes\", \"no\"] = Field(\n",
    "        description=\"Decide if the document is relevant to the question. Answer Yes or No.\"\n",
    "    )\n",
    "    reason: str = Field(\n",
    "        description=\"Explain why the document is not relevant to the question\"\n",
    "    )"
   ]
  },
  {
   "cell_type": "code",
   "execution_count": 20,
   "metadata": {},
   "outputs": [],
   "source": [
    "# Augment the LLM with schema\n",
    "evaluator = chatgpt.with_structured_output(Feedback)"
   ]
  },
  {
   "cell_type": "code",
   "execution_count": 21,
   "metadata": {},
   "outputs": [],
   "source": [
    "# nodes\n",
    "def retrieve(state: State):\n",
    "    print(\"retrieving documents\")\n",
    "    retrieved_docs = retriever.invoke(state[\"question\"])\n",
    "    return {\"context\": retrieved_docs}\n",
    "\n",
    "def grade_documents(state: State):\n",
    "    print(\"grading documents\")\n",
    "    filtered_docs = []\n",
    "\n",
    "    for doc in state[\"context\"]:\n",
    "        doc_grader_prompt_formatted = doc_grader_prompt.format(\n",
    "            document=doc.page_content, question=state[\"question\"]\n",
    "        )\n",
    "        # print(f\"formatted prompt: {doc_grader_prompt_formatted}\")\n",
    "\n",
    "        output = evaluator.invoke(doc_grader_prompt_formatted)\n",
    "        print(f\"grader answered: {output.grade}\")\n",
    "\n",
    "        if output.grade.lower() == \"yes\":\n",
    "            filtered_docs.append(doc)\n",
    "            print(output.reason)\n",
    "        else:\n",
    "            print(f\"Removed doc with content: {doc.page_content}\")\n",
    "            print(output.reason)\n",
    "\n",
    "    return {\"filtered_context\": filtered_docs}\n",
    "\n",
    "def generate(state: State):\n",
    "    print(\"generating response\")\n",
    "    filtered_docs_content = \"\\n\\n\".join(doc.page_content for doc in state[\"filtered_context\"])\n",
    "    messages = rag_prompt.invoke({\"question\": state[\"question\"], \"context\": filtered_docs_content})\n",
    "    response = chatgpt.invoke(messages)\n",
    "    return {\"answer\": response.content}"
   ]
  },
  {
   "cell_type": "code",
   "execution_count": 22,
   "metadata": {},
   "outputs": [
    {
     "data": {
      "image/jpeg": "[encoded data removed]",
      "text/plain": [
       "<IPython.core.display.Image object>"
      ]
     },
     "metadata": {},
     "output_type": "display_data"
    }
   ],
   "source": [
    "# Build workflow\n",
    "workflow = StateGraph(State)\n",
    "\n",
    "# Add nodes\n",
    "workflow.add_node(\"retrieve_documents\", retrieve)\n",
    "workflow.add_node(\"grade_documents\", grade_documents)\n",
    "workflow.add_node(\"generate_answer\", generate)\n",
    "\n",
    "# Connect nodes\n",
    "workflow.add_edge(START, \"retrieve_documents\")\n",
    "workflow.add_edge(\"retrieve_documents\", \"grade_documents\")\n",
    "workflow.add_edge(\"grade_documents\", \"generate_answer\")\n",
    "workflow.add_edge(\"generate_answer\", END)\n",
    "\n",
    "# Compile\n",
    "graph = workflow.compile()\n",
    "\n",
    "display(Image(graph.get_graph().draw_mermaid_png()))"
   ]
  },
  {
   "cell_type": "code",
   "execution_count": 23,
   "metadata": {},
   "outputs": [
    {
     "name": "stdout",
     "output_type": "stream",
     "text": [
      "retrieving documents\n",
      "grading documents\n",
      "grader answered: yes\n",
      "The document metaphorically describes the handbag floating in the sky, which loosely answers the question about the handbag's location.\n",
      "grader answered: no\n",
      "Removed doc with content: A red dog walking on a street.\n",
      "The document describes a scene with a red dog walking on a street and does not mention anything about a handbag or provide any information related to the location of a handbag.\n",
      "grader answered: no\n",
      "Removed doc with content: A beautiful sunset at the end of a road.\n",
      "The document describes a sunset, which does not contain any keywords or semantic meaning related to the location of a handbag. There is no metaphorical or loose connection between the sunset and the question about a handbag's location.\n",
      "grader answered: no\n",
      "Removed doc with content: No more eggs in the fridge\n",
      "The document 'No more eggs in the fridge' does not contain any keywords or semantic meaning related to the question 'where is the handbag?'. There is no connection or metaphorical relevance between the two.\n",
      "generating response\n"
     ]
    }
   ],
   "source": [
    "state = graph.invoke({\"question\": \"where is the handbag?\"})"
   ]
  },
  {
   "cell_type": "code",
   "execution_count": 24,
   "metadata": {},
   "outputs": [
    {
     "name": "stdout",
     "output_type": "stream",
     "text": [
      "[Document(id='a5bba28e-f339-4c0d-8ee4-18c486949bde', page_content='A blue handbag floating in the sky.'), Document(id='85e20aff-b39e-47e5-99d0-36d64457f370', page_content='A red dog walking on a street.'), Document(id='1524e723-a90f-4cd2-aea1-3d77c86c186d', page_content='A beautiful sunset at the end of a road.'), Document(id='70b8ff6b-ec31-466b-8dc5-6ebc8db6aa28', page_content='No more eggs in the fridge')]\n",
      "[Document(id='a5bba28e-f339-4c0d-8ee4-18c486949bde', page_content='A blue handbag floating in the sky.')]\n",
      "The handbag is floating in the sky.\n"
     ]
    }
   ],
   "source": [
    "print(state['context'])\n",
    "print(state[\"filtered_context\"])\n",
    "print(state['answer'])"
   ]
  },
  {
   "cell_type": "markdown",
   "metadata": {},
   "source": [
    "## Split Answer for Texting"
   ]
  },
  {
   "cell_type": "code",
   "execution_count": 51,
   "metadata": {},
   "outputs": [],
   "source": [
    "#Graph State\n",
    "class State(TypedDict):\n",
    "    question: str\n",
    "    answer: str\n",
    "    answer_split: Optional[List[str]]\n"
   ]
  },
  {
   "cell_type": "code",
   "execution_count": 52,
   "metadata": {},
   "outputs": [],
   "source": [
    "class SplitAnswer(BaseModel):\n",
    "    parts: List[str] = Field(\n",
    "        description= \n",
    "            \"The answer, split into multiple short messages for texting. \"\n",
    "            \"Split only if it improves the natural flow. \"\n",
    "            \"If the answer should stay as one message, return a list with just that one string.\"\n",
    "    )"
   ]
  },
  {
   "cell_type": "code",
   "execution_count": 53,
   "metadata": {},
   "outputs": [],
   "source": [
    "splitter = chatgpt.with_structured_output(SplitAnswer)"
   ]
  },
  {
   "cell_type": "code",
   "execution_count": 54,
   "metadata": {},
   "outputs": [],
   "source": [
    "prompt = ChatPromptTemplate.from_messages([\n",
    "        (\"system\", \"\"\"\n",
    "You are a friendly assistant that responds via SMS or instant message.\n",
    "\n",
    "Generate a natural-sounding reply to the user's question. Write casually, like a human texting — short, relaxed, and conversational. You can use emojis where they add emotion, emphasis, or rhythm, but only if they feel natural.\n",
    "\n",
    "Sometimes a short reply or even just an emoji is best (e.g., \"👀\", \"lol\", \"sure 🙃\"). Avoid sounding robotic or overly formal.\n",
    "\n",
    "Do not overuse emojis, and avoid always placing them at the end.\n",
    "        \"\"\"),\n",
    "        (\"human\", \"{question}\")\n",
    "    ])\n",
    "\n",
    "splitter_prompt = ChatPromptTemplate.from_messages([\n",
    "    (\"system\", \"\"\"\n",
    "You are helping format an AI-generated answer to be sent over SMS or chat. In order to make the message feel conversational and natural, consider breaking it into multiple shorter messages, like a human might do.\n",
    "\n",
    "Split the message **only if it improves the rhythm or tone** — for example, to add a natural pause, build anticipation, or make it feel more casual and friendly. Do *not* split just because the message is long.\n",
    "\n",
    "If the answer works best as a single message, return it unchanged as a single item in a list.\n",
    "\n",
    "Here is the generated answer:\n",
    "    \n",
    "{answer}\n",
    "\"\"\")\n",
    "])"
   ]
  },
  {
   "cell_type": "code",
   "execution_count": 55,
   "metadata": {},
   "outputs": [],
   "source": [
    "def generate(state: State):\n",
    "    print(\"generating response\")\n",
    "    messages = prompt.invoke({\"question\": state[\"question\"]})\n",
    "    response = chatgpt.invoke(messages)\n",
    "    return {\"answer\": response.content}\n",
    "\n",
    "def split_answer(state: State):\n",
    "    print(\"Trying to split answer\")\n",
    "    prompt_text = splitter_prompt.format(answer=state[\"answer\"])\n",
    "    result = splitter.invoke(prompt_text)\n",
    "    return {\"answer_split\": result.parts}"
   ]
  },
  {
   "cell_type": "code",
   "execution_count": 72,
   "metadata": {},
   "outputs": [
    {
     "name": "stdout",
     "output_type": "stream",
     "text": [
      "%%{init: {'flowchart': {'curve': 'linear'}}}%%\n",
      "graph TD;\n",
      "\t__start__([<p>__start__</p>]):::first\n",
      "\tgenerate_answer(generate_answer)\n",
      "\tsplit_answer(split_answer)\n",
      "\t__end__([<p>__end__</p>]):::last\n",
      "\t__start__ --> generate_answer;\n",
      "\tgenerate_answer --> split_answer;\n",
      "\tsplit_answer --> __end__;\n",
      "\tclassDef default fill:#f2f0ff,line-height:1.2\n",
      "\tclassDef first fill-opacity:0\n",
      "\tclassDef last fill:#bfb6fc\n",
      "\n"
     ]
    },
    {
     "data": {
      "image/png": "[encoded data removed]",
      "text/plain": [
       "<IPython.core.display.Image object>"
      ]
     },
     "execution_count": 72,
     "metadata": {},
     "output_type": "execute_result"
    }
   ],
   "source": [
    "# Build workflow\n",
    "workflow = StateGraph(State)\n",
    "\n",
    "# Add nodes\n",
    "workflow.add_node(\"generate_answer\", generate)\n",
    "workflow.add_node(\"split_answer\", split_answer)\n",
    "\n",
    "# Connect nodes\n",
    "workflow.add_edge(START, \"generate_answer\")\n",
    "workflow.add_edge(\"generate_answer\", \"split_answer\")\n",
    "workflow.add_edge(\"split_answer\", END)\n",
    "\n",
    "# Compile\n",
    "graph = workflow.compile()\n",
    "\n",
    "print(graph.get_graph().draw_mermaid()) # draw mermaid broken for some reason\n",
    "Image(graph.get_graph().draw_png())\n"
   ]
  },
  {
   "cell_type": "code",
   "execution_count": 73,
   "metadata": {},
   "outputs": [
    {
     "name": "stdout",
     "output_type": "stream",
     "text": [
      "generating response\n",
      "Trying to split answer\n",
      "Haha, metaphorically speaking, I'd say I've got a dozen ideas ready to crack open! 😄 What's cooking?\n"
     ]
    }
   ],
   "source": [
    "state = graph.invoke({\"question\": \"how many eggs in your fridge (metaphorically)?\"})\n",
    "print(state['answer'])"
   ]
  },
  {
   "cell_type": "code",
   "execution_count": 74,
   "metadata": {},
   "outputs": [
    {
     "name": "stdout",
     "output_type": "stream",
     "text": [
      "[\"Haha, metaphorically speaking, I'd say I've got a dozen ideas ready to crack open! 😄\", \"What's cooking?\"]\n"
     ]
    }
   ],
   "source": [
    "print(state['answer_split'])"
   ]
  },
  {
   "cell_type": "markdown",
   "metadata": {},
   "source": [
    "## Change Answer Style"
   ]
  },
  {
   "cell_type": "code",
   "execution_count": 75,
   "metadata": {},
   "outputs": [],
   "source": [
    "class State(TypedDict):\n",
    "    question: str\n",
    "    answer: str\n",
    "    styled_answer: str"
   ]
  },
  {
   "cell_type": "code",
   "execution_count": 76,
   "metadata": {},
   "outputs": [],
   "source": [
    "class StyledAnswer(BaseModel):\n",
    "    styled: str = Field(description=\"The rewritten answer in the requested style.\")\n",
    "    changes_made: str = Field(description=\"A short explanation of what was changed or why.\")"
   ]
  },
  {
   "cell_type": "code",
   "execution_count": 77,
   "metadata": {},
   "outputs": [],
   "source": [
    "styler = chatgpt.with_structured_output(StyledAnswer)"
   ]
  },
  {
   "cell_type": "code",
   "execution_count": 78,
   "metadata": {},
   "outputs": [],
   "source": [
    "# style_prompt = prompt = f\"\"\"\n",
    "# Style the following answer according to the style guide below:\n",
    "\n",
    "# Style Guide:\n",
    "# - Write in a casual, friendly tone\n",
    "# - Use emojis when natural (but not overused)\n",
    "# - Avoid formal or robotic phrasing\n",
    "\n",
    "# Answer:\n",
    "# \"{state['answer']}\"\n",
    "\n",
    "# Respond with the styled version and a short explanation of what changed.\n",
    "# \"\"\"\n",
    "\n",
    "style_prompt = ChatPromptTemplate.from_messages([\n",
    "    (\"system\", \"\"\" \n",
    "Style the following answer according to the style guide below:\n",
    "\n",
    "Style Guide:\n",
    "- Write in a casual, friendly tone\n",
    "- Use emojis when natural (but not overused)\n",
    "- Avoid formal or robotic phrasing\n",
    "\n",
    "Answer:\n",
    "\"{answer}\"\n",
    "\n",
    "Respond with the styled version and a short explanation of what changed.\n",
    "\n",
    "\"\"\")\n",
    "])"
   ]
  },
  {
   "cell_type": "code",
   "execution_count": 79,
   "metadata": {},
   "outputs": [],
   "source": [
    "def generate(state: State):\n",
    "    print(\"generating response\")\n",
    "    messages = prompt.invoke({\"question\": state[\"question\"]})\n",
    "    response = chatgpt.invoke(messages)\n",
    "    return {\"answer\": response.content}\n",
    "\n",
    "def change_style(state: State):\n",
    "    print(\"trying to change style\")\n",
    "    prompt = style_prompt.format(answer=state[\"answer\"])\n",
    "    result = styler.invoke(prompt)\n",
    "    print(f\"{result.changes_made}\")\n",
    "    return {\"styled_answer\": result.styled}"
   ]
  },
  {
   "cell_type": "code",
   "execution_count": 80,
   "metadata": {},
   "outputs": [
    {
     "name": "stdout",
     "output_type": "stream",
     "text": [
      "%%{init: {'flowchart': {'curve': 'linear'}}}%%\n",
      "graph TD;\n",
      "\t__start__([<p>__start__</p>]):::first\n",
      "\tgenerate_answer(generate_answer)\n",
      "\tchange_style(change_style)\n",
      "\t__end__([<p>__end__</p>]):::last\n",
      "\t__start__ --> generate_answer;\n",
      "\tchange_style --> __end__;\n",
      "\tgenerate_answer --> change_style;\n",
      "\tclassDef default fill:#f2f0ff,line-height:1.2\n",
      "\tclassDef first fill-opacity:0\n",
      "\tclassDef last fill:#bfb6fc\n",
      "\n"
     ]
    },
    {
     "data": {
      "image/png": "[encoded data removed]",
      "text/plain": [
       "<IPython.core.display.Image object>"
      ]
     },
     "execution_count": 80,
     "metadata": {},
     "output_type": "execute_result"
    }
   ],
   "source": [
    "# Build workflow\n",
    "workflow = StateGraph(State)\n",
    "\n",
    "# Add nodes\n",
    "workflow.add_node(\"generate_answer\", generate)\n",
    "workflow.add_node(\"change_style\", change_style)\n",
    "\n",
    "# Connect nodes\n",
    "workflow.add_edge(START, \"generate_answer\")\n",
    "workflow.add_edge(\"generate_answer\", \"change_style\")\n",
    "workflow.add_edge(\"change_style\", END)\n",
    "\n",
    "# Compile\n",
    "graph = workflow.compile()\n",
    "\n",
    "print(graph.get_graph().draw_mermaid()) # draw mermaid broken for some reason\n",
    "Image(graph.get_graph().draw_png())"
   ]
  },
  {
   "cell_type": "code",
   "execution_count": 81,
   "metadata": {},
   "outputs": [
    {
     "name": "stdout",
     "output_type": "stream",
     "text": [
      "generating response\n",
      "trying to change style\n",
      "Simplified 'metaphorically speaking' to make it sound more casual and friendly. Replaced 'dozen' with 'tons' to maintain the light, playful tone. The use of emojis was kept as it fits the style.\n",
      "Haha, metaphorically speaking, I’ve got a dozen ideas ready to hatch 🥚✨ What about you?\n"
     ]
    }
   ],
   "source": [
    "state = graph.invoke({\"question\": \"how many eggs in your fridge (metaphorically)?\"})\n",
    "print(state['answer'])"
   ]
  },
  {
   "cell_type": "code",
   "execution_count": 82,
   "metadata": {},
   "outputs": [
    {
     "name": "stdout",
     "output_type": "stream",
     "text": [
      "Haha, I've got tons of ideas just waiting to burst out! 🥚✨ How about you?\n"
     ]
    }
   ],
   "source": [
    "print(state['styled_answer'])"
   ]
  },
  {
   "cell_type": "markdown",
   "metadata": {},
   "source": [
    "## improve query"
   ]
  },
  {
   "cell_type": "code",
   "execution_count": null,
   "metadata": {},
   "outputs": [],
   "source": [
    "def rewrite(state):\n",
    "    \"\"\"\n",
    "    Transform the query to produce a better question.\n",
    "\n",
    "    Args:\n",
    "        state (messages): The current state\n",
    "\n",
    "    Returns:\n",
    "        dict: The updated state with re-phrased question\n",
    "    \"\"\"\n",
    "\n",
    "    print(\"---TRANSFORM QUERY---\")\n",
    "    messages = state[\"messages\"]\n",
    "    question = messages[0].content\n",
    "\n",
    "    msg = [\n",
    "        HumanMessage(\n",
    "            content=f\"\"\" \\n \n",
    "    Look at the input and try to reason about the underlying semantic intent / meaning. \\n \n",
    "    Here is the initial question:\n",
    "    \\n ------- \\n\n",
    "    {question} \n",
    "    \\n ------- \\n\n",
    "    Formulate an improved question: \"\"\",\n",
    "        )\n",
    "    ]\n",
    "\n",
    "    # Grader\n",
    "    model = ChatOpenAI(temperature=0, model=\"gpt-4-0125-preview\", streaming=True)\n",
    "    response = model.invoke(msg)\n",
    "    return {\"messages\": [response]}"
   ]
  },
  {
   "cell_type": "markdown",
   "metadata": {},
   "source": [
    "## agentic retrieval"
   ]
  },
  {
   "cell_type": "code",
   "execution_count": null,
   "metadata": {},
   "outputs": [],
   "source": [
    "from langchain.tools.retriever import create_retriever_tool\n",
    "\n",
    "retriever_tool = create_retriever_tool(\n",
    "    retriever,\n",
    "    \"retrieve_blog_posts\",\n",
    "    \"Search and return information about Lilian Weng blog posts on LLM agents, prompt engineering, and adversarial attacks on LLMs.\",\n",
    ")\n",
    "\n",
    "tools = [retriever_tool]"
   ]
  }
 ],
 "metadata": {
  "kernelspec": {
   "display_name": "langdings",
   "language": "python",
   "name": "python3"
  },
  "language_info": {
   "codemirror_mode": {
    "name": "ipython",
    "version": 3
   },
   "file_extension": ".py",
   "mimetype": "text/x-python",
   "name": "python",
   "nbconvert_exporter": "python",
   "pygments_lexer": "ipython3",
   "version": "3.11.11"
  }
 },
 "nbformat": 4,
 "nbformat_minor": 2
}
